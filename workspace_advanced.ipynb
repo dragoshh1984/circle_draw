{
 "cells": [
  {
   "cell_type": "code",
   "execution_count": 363,
   "metadata": {},
   "outputs": [],
   "source": [
    "import numpy as np\n",
    "import matplotlib.pyplot as plt\n",
    "import cairo\n",
    "import math\n",
    "import imageio\n",
    "import scipy.ndimage\n",
    "import scipy.signal\n",
    "from skimage.color import rgb2gray\n",
    "import cv2 as cv\n",
    "import time\n",
    "\n",
    "import pdb"
   ]
  },
  {
   "cell_type": "code",
   "execution_count": 364,
   "metadata": {},
   "outputs": [],
   "source": [
    "def quadrant(point, circle):\n",
    "#     import pdb; pdb.set_trace()\n",
    "    if point[0] >= circle[0] and point[1] <= circle[1]:\n",
    "        return 1\n",
    "    elif point[0] <= circle[0] and point[1] <= circle[1]:\n",
    "        return 2\n",
    "    elif point[0] <= circle[0] and point[1] >= circle[1]:\n",
    "        return 3\n",
    "    \n",
    "    return 4    \n",
    "# to-do: which arc must be decided cleverly\n",
    "#        for now, it will depend on which side\n",
    "#        the points are to the center of the image\n",
    "#        (up/down and right/left)\n",
    "def get_increase_opacity_angles(point1, point2, circle):\n",
    "    zero_degrees_point = (circle[0] + circle[2], circle[1])\n",
    "    \n",
    "    # delta x, delta y between points\n",
    "    delta1_x, delta1_y = zero_degrees_point[0] - point1[0], zero_degrees_point[1] - point1[1]\n",
    "    delta2_x, delta2_y = zero_degrees_point[0] - point2[0], zero_degrees_point[1] - point2[1]\n",
    "    # dist between points\n",
    "    distance_points1 = math.sqrt(delta1_x**2 + delta1_y**2)\n",
    "    distance_points2 = math.sqrt(delta2_x**2 + delta2_y**2)\n",
    "    \n",
    "    angle1 = np.arccos(1 - distance_points1**2/(2 * circle[2]**2))\n",
    "    angle2 = np.arccos(1 - distance_points2**2/(2 * circle[2]**2))\n",
    "    \n",
    "    if quadrant(point1, circle) == 1:\n",
    "        angle1 = np.pi/2 - angle1 + 3/2*np.pi\n",
    "    elif quadrant(point1, circle) == 2:\n",
    "        angle1 = 2*np.pi - angle1\n",
    "    \n",
    "    if quadrant(point2, circle) == 1:\n",
    "        angle2 = np.pi/2 - angle2 + 3/2*np.pi\n",
    "    elif quadrant(point2, circle) == 2:\n",
    "        angle2 = 2*np.pi - angle2\n",
    "    \n",
    "    if ((quadrant(point1, circle) == 1 and quadrant(point2, circle) == 4) or\n",
    "       (quadrant(point2, circle) == 1 and quadrant(point1, circle) == 4)):\n",
    "        return max(angle1, angle2), min(angle1, angle2)\n",
    "    \n",
    "    \n",
    "    return min(angle1, angle2), max(angle1, angle2)\n",
    "\n",
    "def get_side(point, point1, point2):\n",
    "    side = ((point2[0] - point1[0]) * (point[1] - point1[1]) - \n",
    "             (point2[1] - point1[1]) * (point[0] - point1[0]))\n",
    "    \n",
    "    \n",
    "    if side == 0:  # on the line\n",
    "        return 0\n",
    "    elif side > 0: # right side\n",
    "        return 1\n",
    "    else:          # left side\n",
    "        return -1\n",
    "\n",
    "# might be a good idea if the points from image_points are already selected to be from the contour\n",
    "# from point1 to point2 and not all points\n",
    "def select_circle(image_points, point1, point2, left_circle, right_circle):\n",
    "    no_left_points = 0\n",
    "    no_right_points = 0\n",
    "    \n",
    "    for point in image_points:\n",
    "        if point[0] > min(point1[0], point2[0]) and point[0] < max(point1[0], point2[0]):\n",
    "            if get_side(point, point1, point2) == 1:\n",
    "                no_right_points += 1\n",
    "            elif get_side(point, point1, point2) == -1:\n",
    "                no_left_points += 1\n",
    "    \n",
    "#     print(\"{} > {}\".format(no_left_points, no_right_points))\n",
    "    \n",
    "    if no_left_points > no_right_points:\n",
    "        return right_circle\n",
    "    else:\n",
    "        return left_circle\n",
    "\n",
    "def get_circle_improved(image_points, point1, point2, scale_const):\n",
    "#     pdb.set_trace()\n",
    "    (point1_x, point1_y), (point2_x, point2_y) = point1, point2\n",
    "\n",
    "    if point1 == point2:\n",
    "        raise ValueError('coincident points gives infinite number of Circles')\n",
    "    \n",
    "    # delta x, delta y between points\n",
    "    delta_x, delta_y = point2_x - point1_x, point2_y - point1_y\n",
    "    # dist between points\n",
    "    distance_points = math.sqrt(delta_x**2 + delta_y**2)\n",
    "    \n",
    "    # scaling radius selected, scale_const must be bigger than 0.5\n",
    "    radius = scale_const * distance_points\n",
    "    if scale_const < 0.5:\n",
    "        raise ValueError('separation of points > diameter')\n",
    "    \n",
    "    # halfway point\n",
    "    point3_x, point3_y = (point1_x + point2_x) / 2, (point1_y + point2_y) / 2\n",
    "    \n",
    "    # distance along the mirror line\n",
    "    distance_mirror = math.sqrt(radius**2 - (distance_points / 2)**2)\n",
    "    \n",
    "    # One answer\n",
    "    left_circle = (point3_x - distance_mirror * delta_y / distance_points,\n",
    "                   point3_y + distance_mirror * delta_x / distance_points,\n",
    "                   abs(radius))\n",
    "    # The other answer\n",
    "    right_circle = (point3_x + distance_mirror * delta_y / distance_points,\n",
    "                    point3_y - distance_mirror * delta_x / distance_points,\n",
    "                    abs(radius))\n",
    "    \n",
    "    circle = select_circle(image_points, point1, point2, left_circle, right_circle)\n",
    "    \n",
    "    return circle\n",
    "\n",
    "def create_circle_layer(image_points, surface_shape, points, radius_scale):\n",
    "    width, height, channels = surface_shape\n",
    "    \n",
    "    background = np.zeros((width, height, channels), dtype=np.uint8)\n",
    "    main_surface = cairo.ImageSurface.create_for_data(\n",
    "        background, cairo.FORMAT_ARGB32, width, height)\n",
    "\n",
    "    cr = cairo.Context(main_surface)\n",
    "\n",
    "    # draw background\n",
    "    cr.set_source_rgba(1.0, 1.0, 1.0, 1)\n",
    "    cr.paint()\n",
    "\n",
    "    # draw the two points\n",
    "    point1 = points[0]\n",
    "    point2 = points[1]\n",
    "\n",
    "#     cr.set_source_rgba(1, 0.2, 0.2, 0.6)\n",
    "#     cr.arc(point1[0], point1[1], 4.0, 0, 2*np.pi)\n",
    "#     cr.arc(point2[0], point2[1], 4.0, 0, 2*np.pi)\n",
    "#     cr.fill()\n",
    "\n",
    "    # draw the circle\n",
    "    circle = get_circle_improved(image_points, point1, point2, radius_scale)\n",
    "    cr.set_source_rgba(1, 0.2, 0.2, 0.1)\n",
    "    cr.arc(circle[0], circle[1], circle[2], 0, 2*math.pi)\n",
    "    cr.set_line_width(3)\n",
    "    cr.stroke()\n",
    "\n",
    "    # increase opacity\n",
    "    angle_start, angle_stop = get_increase_opacity_angles(point1, point2, circle)\n",
    "#     pdb.set_trace()\n",
    "    \n",
    "    # draw the circle\n",
    "    cr.set_source_rgba(1, 0.2, 0.2, 1)\n",
    "    cr.arc(circle[0], circle[1], circle[2], angle_start, angle_stop)\n",
    "    cr.set_line_width(3)\n",
    "    cr.stroke()\n",
    "    \n",
    "    return background\n",
    "\n",
    "def draw_image(image_points, connections, image_shape, radius_scale):\n",
    "    print(image_shape)\n",
    "    width, height, channels = image_shape\n",
    "    \n",
    "    background = np.zeros(image_shape, dtype=np.uint8)\n",
    "    main_surface = cairo.ImageSurface.create_for_data(\n",
    "        background, cairo.FORMAT_ARGB32, width, height)\n",
    "\n",
    "    cr = cairo.Context(main_surface)\n",
    "\n",
    "    # draw background\n",
    "    cr.set_source_rgba(1.0, 1.0, 1.0, 1)\n",
    "    cr.paint()\n",
    "    \n",
    "    for connection in connections:\n",
    "        circle_layer = create_circle_layer(image_points, image_shape, connection, radius_scale)\n",
    "        \n",
    "        background += circle_layer\n",
    "    \n",
    "    return background, main_surface"
   ]
  },
  {
   "cell_type": "code",
   "execution_count": 365,
   "metadata": {},
   "outputs": [
    {
     "name": "stdout",
     "output_type": "stream",
     "text": [
      "5\n"
     ]
    },
    {
     "data": {
      "image/png": "[encoded data removed]",
      "text/plain": [
       "<Figure size 432x288 with 1 Axes>"
      ]
     },
     "metadata": {
      "needs_background": "light"
     },
     "output_type": "display_data"
    },
    {
     "data": {
      "image/png": "[encoded data removed]",
      "text/plain": [
       "<Figure size 720x720 with 1 Axes>"
      ]
     },
     "metadata": {
      "needs_background": "light"
     },
     "output_type": "display_data"
    }
   ],
   "source": [
    "from skimage import measure\n",
    "\n",
    "original_image = imageio.imread(\"hard_af.png\")\n",
    "original_image = rgb2gray(original_image[:,:,:3]).astype(np.uint8)\n",
    "\n",
    "plt.imshow(original_image, cmap='gray')\n",
    "\n",
    "contours = measure.find_contours(original_image, \n",
    "                                 0, \n",
    "                                 fully_connected='high',\n",
    "                                 positive_orientation='low')\n",
    "\n",
    "print(len(contours))\n",
    "\n",
    "plt.figure(figsize=(10, 10))\n",
    "plt.imshow(original_image, cmap='gray')\n",
    "for _, contour in enumerate(contours):\n",
    "    plt.plot(contour[:, 1], contour[:, 0], linewidth=2)\n",
    "plt.title('Contours found')\n",
    "plt.axis('off')\n",
    "\n",
    "plt.show()"
   ]
  },
  {
   "cell_type": "code",
   "execution_count": 366,
   "metadata": {},
   "outputs": [
    {
     "name": "stdout",
     "output_type": "stream",
     "text": [
      "1864\n",
      "[[534. 528.]\n",
      " [533. 529.]\n",
      " [533. 530.]\n",
      " ...\n",
      " [534. 526.]\n",
      " [534. 527.]\n",
      " [534. 528.]]\n"
     ]
    },
    {
     "data": {
      "text/plain": [
       "[<matplotlib.lines.Line2D at 0x7f25871323d0>]"
      ]
     },
     "execution_count": 366,
     "metadata": {},
     "output_type": "execute_result"
    },
    {
     "data": {
      "image/png": "[encoded data removed]",
      "text/plain": [
       "<Figure size 1080x1080 with 1 Axes>"
      ]
     },
     "metadata": {
      "needs_background": "light"
     },
     "output_type": "display_data"
    }
   ],
   "source": [
    "print(len(contours[0]))\n",
    "print(contours[0])\n",
    "\n",
    "plt.figure(figsize=(15, 15))\n",
    "ax = plt.gca()\n",
    "ax.set_aspect('equal')\n",
    "ax.set_ylim(0, 1080)\n",
    "ax.set_ylim(ax.get_ylim()[::-1])\n",
    "ax.xaxis.tick_top()\n",
    "ax.yaxis.tick_left()   \n",
    "# plt.imshow(original_image, cmap='gray')\n",
    "\n",
    "plt.plot(contours[0][:, 1], contours[0][:, 0], linewidth=2)\n",
    "\n",
    "# for _, contour in enumerate(contours):\n",
    "#     plt.plot(contour[:, 1], contour[:, 0], linewidth=2)\n",
    "#     print(contour[:, 1])"
   ]
  },
  {
   "cell_type": "markdown",
   "metadata": {},
   "source": [
    "## Using end_abruptness from\n",
    "\n",
    "Identifying Salient Circular Arcs on Curves\n",
    "Eric Saund\n",
    "Xerox Palo Alto Research Center\n",
    "3333 Coyote Hill Rd.\n",
    "Palo Alto, CA. 94304"
   ]
  },
  {
   "cell_type": "code",
   "execution_count": 367,
   "metadata": {},
   "outputs": [],
   "source": [
    "sigma_3 = np.pi / 3\n",
    "\n",
    "def distance_between(point1, point2):\n",
    "    x1, y1 = point1[0], point1[1]\n",
    "    x2, y2 = point2[0], point2[1]\n",
    "    \n",
    "    return np.sqrt((x1-x2)**2 + (y1-y2)**2)\n",
    "\n",
    "def max_deviation(circle, points):\n",
    "    radius = circle[2]\n",
    "    center = (circle[0], circle[1])\n",
    "    \n",
    "    deviation = 0\n",
    "    for point in points:\n",
    "        distance = distance_between(center, point)\n",
    "        if distance > deviation:\n",
    "            deviation = distance\n",
    "    \n",
    "    return deviation\n",
    "\n",
    "def end_abruptness_c(last_point, current_point, deviation):\n",
    "    delta_y = np.absolute(current_point[1] - last_point[1])\n",
    "    delta_x = current_point[0] - last_point[0]\n",
    "#     pdb.set_trace()\n",
    "    return max(0, min(1, (max(0, (delta_y - deviation))/(deviation + delta_x * np.tan(sigma_3)))))"
   ]
  },
  {
   "cell_type": "code",
   "execution_count": 368,
   "metadata": {},
   "outputs": [],
   "source": [
    "cnt_i = 0\n",
    "contour_example = contours[cnt_i]\n",
    "\n",
    "# findcontours gives [y-coordonate, x-coordinate], we'll swap them\n",
    "for index in range(len(contour_example)):\n",
    "    contour_example[index][0], contour_example[index][1] = contour_example[index][1], contour_example[index][0]"
   ]
  },
  {
   "cell_type": "code",
   "execution_count": 369,
   "metadata": {},
   "outputs": [],
   "source": [
    "connections = []\n",
    "current_points = []\n",
    "\n",
    "current_points.append(starting_point)\n",
    "current_points.append(ending_point)\n",
    "\n",
    "connections.append((starting_point, ending_point))\n",
    "\n",
    "image_points = [tuple(point) for point in contour_example]\n",
    "\n",
    "starting_point = image_points[0]\n",
    "ending_point = image_points[10]\n",
    "\n",
    "deviation = 0.0001\n",
    "for index in range(0, len(image_points), 10):\n",
    "    point = image_points[index]\n",
    "    if point != starting_point and point != ending_point:\n",
    "        circle = get_circle_improved(image_points, starting_point, ending_point, 2)\n",
    "#         print([starting_point, ending_point])\n",
    "#         circle_layer = create_circle_layer(image_points, (800,600,4), [starting_point, ending_point], 1)\n",
    "#         pdb.set_trace()\n",
    "#         plt.imshow(circle_layer)\n",
    "        \n",
    "\n",
    "        abruptness = end_abruptness_c(ending_point, point, deviation)\n",
    "#         print(abruptness)\n",
    "        deviation = max_deviation(circle, current_points)\n",
    "\n",
    "        if abruptness <= 0.3 and deviation < 200:\n",
    "            ending_point = point\n",
    "            current_points.append(point)\n",
    "        else:\n",
    "            deviation = 0.0001\n",
    "            current_points = []\n",
    "            \n",
    "            ending_point = point\n",
    "\n",
    "            current_points.append(starting_point)\n",
    "            current_points.append(ending_point)\n",
    "            \n",
    "            connections.append((starting_point, ending_point))\n",
    "            \n",
    "            starting_point = point\n",
    "            if index+10 < len(image_points):\n",
    "                ending_point = image_points[index+10]\n",
    "            else:\n",
    "                connections.append((starting_point, image_points[len(image_points)-1]))\n",
    "                break\n",
    "#         time.sleep(0.5)\n",
    "#         pdb.set_trace()\n"
   ]
  },
  {
   "cell_type": "code",
   "execution_count": 370,
   "metadata": {},
   "outputs": [
    {
     "name": "stdout",
     "output_type": "stream",
     "text": [
      "(1980, 1080, 4)\n"
     ]
    }
   ],
   "source": [
    "image = []\n",
    "surface = []\n",
    "image, surface = draw_image(image_points, connections, (1980, 1080, 4), 1)\n",
    "\n",
    "surface.write_to_png(\"hard_{}.png\".format(cnt_i))"
   ]
  },
  {
   "cell_type": "code",
   "execution_count": 371,
   "metadata": {},
   "outputs": [],
   "source": [
    "backgrounds.append(image)"
   ]
  },
  {
   "cell_type": "code",
   "execution_count": 407,
   "metadata": {},
   "outputs": [
    {
     "data": {
      "text/plain": [
       "6"
      ]
     },
     "execution_count": 407,
     "metadata": {},
     "output_type": "execute_result"
    }
   ],
   "source": [
    "len(backgrounds)"
   ]
  },
  {
   "cell_type": "code",
   "execution_count": 362,
   "metadata": {},
   "outputs": [
    {
     "data": {
      "text/plain": [
       "(1980, 1080, 4)"
      ]
     },
     "execution_count": 362,
     "metadata": {},
     "output_type": "execute_result"
    }
   ],
   "source": [
    "backgrounds[1].shape"
   ]
  },
  {
   "cell_type": "code",
   "execution_count": 427,
   "metadata": {},
   "outputs": [],
   "source": [
    "background_final = np.array([], dtype=np.uint8)\n",
    "background_final = backgrounds[1]\n",
    "for i in range(2,6):\n",
    "    background_final += backgrounds[i]"
   ]
  },
  {
   "cell_type": "code",
   "execution_count": 428,
   "metadata": {},
   "outputs": [],
   "source": [
    "main_surface = cairo.ImageSurface.create_for_data(background_final.astype(np.uint8), cairo.FORMAT_ARGB32, 1980, 1080)\n",
    "main_surface.write_to_png(\"hard_af_first_take.png\")"
   ]
  },
  {
   "cell_type": "code",
   "execution_count": null,
   "metadata": {},
   "outputs": [],
   "source": []
  },
  {
   "cell_type": "code",
   "execution_count": 426,
   "metadata": {},
   "outputs": [],
   "source": []
  },
  {
   "cell_type": "code",
   "execution_count": null,
   "metadata": {},
   "outputs": [],
   "source": []
  },
  {
   "cell_type": "code",
   "execution_count": null,
   "metadata": {},
   "outputs": [],
   "source": []
  }
 ],
 "metadata": {
  "kernelspec": {
   "display_name": "Python 3",
   "language": "python",
   "name": "python3"
  },
  "language_info": {
   "codemirror_mode": {
    "name": "ipython",
    "version": 3
   },
   "file_extension": ".py",
   "mimetype": "text/x-python",
   "name": "python",
   "nbconvert_exporter": "python",
   "pygments_lexer": "ipython3",
   "version": "3.8.2"
  }
 },
 "nbformat": 4,
 "nbformat_minor": 4
}
