{
 "cells": [
  {
   "cell_type": "markdown",
   "metadata": {},
   "source": [
    "# Draw an image full of circles of which arcs make up the original image "
   ]
  },
  {
   "cell_type": "markdown",
   "metadata": {},
   "source": [
    "## Example showing the desired output\n",
    "\n",
    "![title](desired_image.jpg)"
   ]
  },
  {
   "cell_type": "markdown",
   "metadata": {},
   "source": [
    "## 4. Subproblem: Create gradient background"
   ]
  },
  {
   "cell_type": "markdown",
   "metadata": {},
   "source": [
    "## 0. Subproblem: Select the right tools\n",
    "\n",
    "[Cairo](https://www.cairographics.org/documentation/) seems the right choice regarding drawing while using numpy arrays as base for its drawing."
   ]
  },
  {
   "cell_type": "markdown",
   "metadata": {},
   "source": [
    "### Create background image sample"
   ]
  },
  {
   "cell_type": "code",
   "execution_count": 478,
   "metadata": {},
   "outputs": [],
   "source": [
    "import numpy as np\n",
    "import matplotlib.pyplot as plt\n",
    "import cairo\n",
    "import math\n",
    "import imageio\n",
    "import scipy.ndimage\n",
    "import scipy.signal\n",
    "from skimage.color import rgb2grayfirst_circle[0]\n",
    "import cv2 as cv\n",
    "\n",
    "import pdb"
   ]
  },
  {
   "cell_type": "code",
   "execution_count": 479,
   "metadata": {},
   "outputs": [],
   "source": [
    "\n",
    "def plot_image(image):\n",
    "    plt.imshow(image.astype(np.uint8))\n",
    "#     plt.axis('off')\n",
    "    \n",
    "    plt.show()\n",
    "\n",
    "background = np.zeros((200, 200, 4), dtype=np.uint8)\n",
    "surface = cairo.ImageSurface.create_for_data(\n",
    "    background, cairo.FORMAT_ARGB32, 200, 200)\n",
    "\n",
    "cr = cairo.Context(surface)\n",
    "\n",
    "cr.set_source_rgba(1.0, 1.0, 1.0, 1)\n",
    "cr.paint()\n",
    "\n",
    "# cr.arc(100, 100, 80, 0, 2*math.pi)\n",
    "# cr.set_line_width(3)\n",
    "# cr.set_source_rgb(1.0, 0.0, 0.0)\n",
    "# cr.stroke()\n",
    "\n",
    "# print(background)\n",
    "surface.write_to_png(\"circle.png\")"
   ]
  },
  {
   "cell_type": "code",
   "execution_count": 480,
   "metadata": {},
   "outputs": [
    {
     "data": {
      "image/png": "[encoded data removed]",
      "text/plain": [
       "<Figure size 432x288 with 1 Axes>"
      ]
     },
     "metadata": {
      "needs_background": "light"
     },
     "output_type": "display_data"
    }
   ],
   "source": [
    "plot_image(background)"
   ]
  },
  {
   "cell_type": "markdown",
   "metadata": {},
   "source": [
    "## 1. Subproblem: Draw a circle through two points"
   ]
  },
  {
   "cell_type": "code",
   "execution_count": 481,
   "metadata": {},
   "outputs": [],
   "source": [
    "cr.set_source_rgba(1, 0.2, 0.2, 0.6)\n",
    "\n",
    "p1_x = 50\n",
    "p1_y = 50\n",
    "\n",
    "p2_x = 50\n",
    "p2_y = 150\n",
    "\n",
    "cr.arc (p1_x, p1_y, 4.0, 0, 2*np.pi)\n",
    "cr.arc (p2_x, p2_y, 4.0, 0, 2*np.pi)\n",
    "cr.fill ();"
   ]
  },
  {
   "cell_type": "code",
   "execution_count": 482,
   "metadata": {},
   "outputs": [
    {
     "data": {
      "image/png": "[encoded data removed]",
      "text/plain": [
       "<Figure size 432x288 with 1 Axes>"
      ]
     },
     "metadata": {
      "needs_background": "light"
     },
     "output_type": "display_data"
    }
   ],
   "source": [
    "plot_image(background)"
   ]
  },
  {
   "cell_type": "code",
   "execution_count": 483,
   "metadata": {},
   "outputs": [],
   "source": [
    "def circles_from_p1p2r(p1, p2, r):\n",
    "    'Following explanation at http://mathforum.org/library/drmath/view/53027.html'\n",
    "    if r == 0.0:\n",
    "        raise ValueError('radius of zero')\n",
    "    (x1, y1), (x2, y2) = p1, p2\n",
    "    if p1 == p2:\n",
    "        raise ValueError('coincident points gives infinite number of Circles')\n",
    "    # delta x, delta y between points\n",
    "    dx, dy = x2 - x1, y2 - y1\n",
    "    # dist between points\n",
    "    q = math.sqrt(dx**2 + dy**2)\n",
    "    if q > 2.0*r:\n",
    "        raise ValueError('separation of points > diameter')\n",
    "    # halfway point\n",
    "    x3, y3 = (x1+x2)/2, (y1+y2)/2\n",
    "    # distance along the mirror line\n",
    "    d = math.sqrt(r**2-(q/2)**2)\n",
    "    # One answer\n",
    "    c1 = (x3 - d*dy/q,\n",
    "          y3 + d*dx/q,\n",
    "          abs(r))\n",
    "    # The other answer\n",
    "    c2 = (x3 + d*dy/q,\n",
    "          y3 - d*dx/q,\n",
    "          abs(r))\n",
    "    return c1, c2"
   ]
  },
  {
   "cell_type": "code",
   "execution_count": 484,
   "metadata": {},
   "outputs": [
    {
     "data": {
      "image/png": "[encoded data removed]",
      "text/plain": [
       "<Figure size 432x288 with 1 Axes>"
      ]
     },
     "metadata": {
      "needs_background": "light"
     },
     "output_type": "display_data"
    }
   ],
   "source": [
    "c1, c2 = circles_from_p1p2r((p1_x, p1_y), (p2_x, p2_y), 60.0)\n",
    "\n",
    "# cr.arc(c1[0], c1[1], c1[2], 0, 2*math.pi)\n",
    "# cr.set_line_width(3)\n",
    "# cr.set_source_rgb(1.0, 0.0, 0.0)\n",
    "# cr.stroke()\n",
    "\n",
    "cr.arc(c2[0], c2[1], c2[2], 0, 2*math.pi)\n",
    "cr.set_line_width(3)\n",
    "cr.set_source_rgba(0.4, 0.6, 0.8, 0.3)\n",
    "cr.stroke()\n",
    "\n",
    "plot_image(background)"
   ]
  },
  {
   "cell_type": "code",
   "execution_count": 485,
   "metadata": {},
   "outputs": [
    {
     "name": "stdout",
     "output_type": "stream",
     "text": [
      "[[255 255 255 ... 255 255 255]\n",
      " [255 255 255 ... 255 255 255]\n",
      " [255 255 255 ... 255 255 255]\n",
      " ...\n",
      " [255 255 255 ... 255 255 255]\n",
      " [255 255 255 ... 255 255 255]\n",
      " [255 255 255 ... 255 255 255]]\n",
      "[132 133 134 135 136 137 138 139 140 141 142 143 144 146 148 149 150 151\n",
      " 152 153 154 156 162 163 165 167 169 170 171 172 177 178 207 209 210 211\n",
      " 212 213 214 215 216 217 218 219 220 221 222 223 224 225 226 227 228 229\n",
      " 230 231 232 233 234 235 236 237 238 239 240 241 242 243 244 245 246 247\n",
      " 248 249 250 251 252 253 254 255]\n",
      "[[28 28 28 ... 28 28 28]\n",
      " [28 28 28 ... 28 28 28]\n",
      " [28 28 28 ... 28 28 28]\n",
      " ...\n",
      " [28 28 28 ... 28 28 28]\n",
      " [28 28 28 ... 28 28 28]\n",
      " [28 28 28 ... 28 28 28]]\n"
     ]
    }
   ],
   "source": [
    "print(background[:,:,0])\n",
    "print(np.unique(background))\n",
    "background[:,:,3] = 28\n",
    "print(background[:,:,3])"
   ]
  },
  {
   "cell_type": "code",
   "execution_count": 486,
   "metadata": {},
   "outputs": [
    {
     "data": {
      "image/png": "[encoded data removed]",
      "text/plain": [
       "<Figure size 432x288 with 1 Axes>"
      ]
     },
     "metadata": {
      "needs_background": "light"
     },
     "output_type": "display_data"
    }
   ],
   "source": [
    "plot_image(background)"
   ]
  },
  {
   "cell_type": "code",
   "execution_count": 487,
   "metadata": {},
   "outputs": [],
   "source": [
    "surface.write_to_png(\"circle.png\")\n",
    "surface2 = cairo.ImageSurface.create_for_data(\n",
    "    background, cairo.FORMAT_ARGB32, 200, 200)"
   ]
  },
  {
   "cell_type": "code",
   "execution_count": 488,
   "metadata": {},
   "outputs": [],
   "source": [
    "surface2.write_to_png(\"circle2.png\")"
   ]
  },
  {
   "cell_type": "markdown",
   "metadata": {},
   "source": [
    "## 2. Subproblem: Select which circle to draw (lefside/rightside or up/down) and increase opacity over the arc"
   ]
  },
  {
   "cell_type": "code",
   "execution_count": 489,
   "metadata": {},
   "outputs": [],
   "source": [
    "def point_closer_to(ref_point, point1, point2):\n",
    "    (ref_point_x, ref_point_y) = ref_point\n",
    "    \n",
    "    point1_x, point1_y = point1[0], point1[1]\n",
    "    point2_x, point2_y = point2[0], point2[1]\n",
    "    \n",
    "    delta_x1, delta_y1 = ref_point_x - point1_x, ref_point_y - point1_y\n",
    "    delta_x2, delta_y2 = ref_point_x - point2_x, ref_point_y - point2_y\n",
    "    \n",
    "    distance1 = math.sqrt(delta_x1**2 + delta_y1**2)\n",
    "    distance2 = math.sqrt(delta_x2**2 + delta_y2**2)\n",
    "    \n",
    "    if distance1 < distance2:\n",
    "        return point1\n",
    "    else:\n",
    "        return point2\n",
    "\n",
    "# to-do: must select which cirlce more cleverly\n",
    "def get_circle(point1, point2, radius, image_shape):\n",
    "    if radius == 0.0:\n",
    "        raise ValueError('radius of zero')\n",
    "    \n",
    "    (point1_x, point1_y), (point2_x, point2_y) = point1, point2\n",
    "    \n",
    "    if point1 == point2:\n",
    "        raise ValueError('coincident points gives infinite number of Circles')\n",
    "    \n",
    "    # delta x, delta y between points\n",
    "    delta_x, delta_y = point2_x - point1_x, point2_y - point1_y\n",
    "    # dist between points\n",
    "    distance_points = math.sqrt(delta_x**2 + delta_y**2)\n",
    "    \n",
    "    if distance_points > 2.0 * radius:\n",
    "        raise ValueError('separation of points > diameter')\n",
    "    \n",
    "    # halfway point\n",
    "    point3_x, point3_y = (point1_x + point2_x) / 2, (point1_y + point2_y) / 2\n",
    "    \n",
    "    # distance along the mirror line\n",
    "    distance_mirror = math.sqrt(radius**2 - (distance_points / 2)**2)\n",
    "    \n",
    "    # One answer\n",
    "    left_circle = (point3_x - distance_mirror * delta_y / distance_points,\n",
    "                   point3_y + distance_mirror * delta_x / distance_points,\n",
    "                   abs(radius))\n",
    "    # The other answer\n",
    "    right_circle = (point3_x + distance_mirror * delta_y / distance_points,\n",
    "                    point3_y - distance_mirror * delta_x / distance_points,\n",
    "                    abs(radius))\n",
    "\n",
    "    image_center = image_shape[0] / 2, image_shape[1] / 2\n",
    "    \n",
    "    circle = point_closer_to(image_center, left_circle, right_circle)\n",
    "    \n",
    "    return circle"
   ]
  },
  {
   "cell_type": "code",
   "execution_count": 490,
   "metadata": {},
   "outputs": [],
   "source": [
    "point1 = (80, 30)\n",
    "point2 = (130, 50)\n",
    "\n",
    "background = np.zeros((200, 200, 4), dtype=np.uint8)\n",
    "main_surface = cairo.ImageSurface.create_for_data(\n",
    "    background, cairo.FORMAT_ARGB32, 200, 200)\n",
    "\n",
    "cr = cairo.Context(main_surface)\n",
    "\n",
    "# draw background\n",
    "cr.set_source_rgba(1.0, 1.0, 1.0, 1)\n",
    "cr.paint()\n",
    "\n",
    "# draw the two points\n",
    "cr.set_source_rgba(1, 0.2, 0.2, 0.6)\n",
    "cr.arc(point1[0], point1[1], 4.0, 0, 2*np.pi)\n",
    "cr.arc(point2[0], point2[1], 4.0, 0, 2*np.pi)\n",
    "cr.fill()\n",
    "\n",
    "# save the image\n",
    "main_surface.write_to_png(\"points.png\")"
   ]
  },
  {
   "cell_type": "code",
   "execution_count": 491,
   "metadata": {},
   "outputs": [],
   "source": [
    "circle = get_circle(point1, point2, 60, background.shape)\n",
    "\n",
    "# draw the circle\n",
    "cr.set_source_rgba(1, 0.2, 0.2, 0.1)\n",
    "cr.arc(circle[0], circle[1], circle[2], 0, 2*math.pi)\n",
    "cr.set_line_width(3)\n",
    "cr.stroke()\n",
    "\n",
    "main_surface.write_to_png(\"circle_and_points.png\")"
   ]
  },
  {
   "cell_type": "code",
   "execution_count": 492,
   "metadata": {},
   "outputs": [],
   "source": [
    "def quadrant(point, circle):\n",
    "#     import pdb; pdb.set_trace()\n",
    "    if point[0] > circle[0] and point[1] < circle[1]:\n",
    "        return 1\n",
    "    elif point[0] < circle[0] and point[1] < circle[1]:\n",
    "        return 2\n",
    "    elif point[0] < circle[0] and point[1] > circle[1]:\n",
    "        return 3\n",
    "    \n",
    "    return 4    \n",
    "\n",
    "# to-do: which arc must be decided cleverly\n",
    "#        for now, it will depend on which side\n",
    "#        the points are to the center of the image\n",
    "#        (up/down and right/left)\n",
    "def get_increase_opacity_angles(point1, point2, circle):\n",
    "    zero_degrees_point = (circle[0] + circle[2], circle[1])\n",
    "    \n",
    "    # delta x, delta y between points\n",
    "    delta1_x, delta1_y = zero_degrees_point[0] - point1[0], zero_degrees_point[1] - point1[1]\n",
    "    delta2_x, delta2_y = zero_degrees_point[0] - point2[0], zero_degrees_point[1] - point2[1]\n",
    "    # dist between points\n",
    "    distance_points1 = math.sqrt(delta1_x**2 + delta1_y**2)\n",
    "    distance_points2 = math.sqrt(delta2_x**2 + delta2_y**2)\n",
    "    \n",
    "    angle1 = np.arccos(1 - distance_points1**2/(2 * circle[2]**2))\n",
    "    angle2 = np.arccos(1 - distance_points2**2/(2 * circle[2]**2))\n",
    "    \n",
    "    if quadrant(point1, circle) == 1:\n",
    "        angle1 = np.pi/2 - angle1 + 3/2*np.pi\n",
    "    elif quadrant(point1, circle) == 2:\n",
    "        angle1 = 2*np.pi - angle1\n",
    "    \n",
    "    if quadrant(point2, circle) == 1:\n",
    "        angle2 = np.pi/2 - angle2 + 3/2*np.pi\n",
    "    elif quadrant(point2, circle) == 2:\n",
    "        angle2 = 2*np.pi - angle2\n",
    "    \n",
    "    \n",
    "    return min(angle1, angle2), max(angle1, angle2)"
   ]
  },
  {
   "cell_type": "code",
   "execution_count": 493,
   "metadata": {},
   "outputs": [],
   "source": [
    "angle_start, angle_stop = get_increase_opacity_angles(point1, point2, circle)\n",
    "\n",
    "# draw the circle\n",
    "cr.set_source_rgba(1, 0.2, 0.2, 1)\n",
    "cr.arc(circle[0], circle[1], circle[2], angle_start, angle_stop)\n",
    "cr.set_line_width(3)\n",
    "cr.stroke()"
   ]
  },
  {
   "cell_type": "code",
   "execution_count": 494,
   "metadata": {},
   "outputs": [],
   "source": [
    "main_surface.write_to_png(\"circle_and_points_increased_opacity.png\")"
   ]
  },
  {
   "cell_type": "code",
   "execution_count": 495,
   "metadata": {},
   "outputs": [],
   "source": [
    "def distance_between(point1, point2):\n",
    "    point1_x, point1_y = point1\n",
    "    point2_x, point2_y = point2\n",
    "    \n",
    "    # delta x, delta y between points\n",
    "    delta_x, delta_y = point2_x - point1_x, point2_y - point1_y\n",
    "    # dist between points\n",
    "    distance_points = math.sqrt(delta_x**2 + delta_y**2)\n",
    "    \n",
    "    return distance_points"
   ]
  },
  {
   "cell_type": "code",
   "execution_count": 496,
   "metadata": {},
   "outputs": [],
   "source": [
    "background = np.zeros((200, 200, 4), dtype=np.uint8)\n",
    "main_surface = cairo.ImageSurface.create_for_data(\n",
    "    background, cairo.FORMAT_ARGB32, 200, 200)\n",
    "\n",
    "cr = cairo.Context(main_surface)\n",
    "\n",
    "# draw background\n",
    "cr.set_source_rgba(1.0, 1.0, 1.0, 1)\n",
    "cr.paint()\n",
    "\n",
    "# draw the two points\n",
    "point1 = (160, 130)\n",
    "point2 = (30, 150)\n",
    "\n",
    "distance1 = distance_between(point1, point2)\n",
    "\n",
    "cr.set_source_rgba(1, 0.2, 0.2, 0.6)\n",
    "cr.arc(point1[0], point1[1], 4.0, 0, 2*np.pi)\n",
    "cr.arc(point2[0], point2[1], 4.0, 0, 2*np.pi)\n",
    "cr.fill()\n",
    "\n",
    "# draw the circle\n",
    "circle = get_circle(point1, point2, distance1 + 20, background.shape)\n",
    "cr.set_source_rgba(1, 0.2, 0.2, 0.1)\n",
    "cr.arc(circle[0], circle[1], circle[2], 0, 2*math.pi)\n",
    "cr.set_line_width(3)\n",
    "cr.stroke()\n",
    "\n",
    "# increase opacity\n",
    "angle_start, angle_stop = get_increase_opacity_angles(point1, point2, circle)\n",
    "\n",
    "# draw the circle\n",
    "cr.set_source_rgba(1, 0.2, 0.2, 1)\n",
    "cr.arc(circle[0], circle[1], circle[2], angle_start, angle_stop)\n",
    "cr.set_line_width(3)\n",
    "cr.stroke()"
   ]
  },
  {
   "cell_type": "code",
   "execution_count": 497,
   "metadata": {},
   "outputs": [],
   "source": [
    "# draw the two points\n",
    "point3 = (80, 30)\n",
    "point4 = (130, 50)\n",
    "\n",
    "distance2 = distance_between(point3, point4)\n",
    "\n",
    "cr.set_source_rgba(1, 0.2, 0.2, 0.6)\n",
    "cr.arc(point3[0], point3[1], 4.0, 0, 2*np.pi)\n",
    "cr.arc(point4[0], point4[1], 4.0, 0, 2*np.pi)\n",
    "cr.fill()\n",
    "\n",
    "# draw the circle\n",
    "circle = get_circle(point3, point4, distance2 + 20, background.shape)\n",
    "cr.set_source_rgba(1, 0.2, 0.2, 0.1)\n",
    "cr.arc(circle[0], circle[1], circle[2], 0, 2*math.pi)\n",
    "cr.set_line_width(3)\n",
    "cr.stroke()\n",
    "\n",
    "# increase opacity\n",
    "angle_start, angle_stop = get_increase_opacity_angles(point3, point4, circle)\n",
    "\n",
    "# draw the circle\n",
    "cr.set_source_rgba(1, 0.2, 0.2, 1)\n",
    "cr.arc(circle[0], circle[1], circle[2], angle_start, angle_stop)\n",
    "cr.set_line_width(3)\n",
    "cr.stroke()\n",
    "\n",
    "# save the image\n",
    "main_surface.write_to_png(\"big_cool.png\")"
   ]
  },
  {
   "cell_type": "markdown",
   "metadata": {},
   "source": [
    "## 3. Subproblem: Select the representative symmetrical(optional) points for an input image"
   ]
  },
  {
   "cell_type": "markdown",
   "metadata": {},
   "source": [
    "### 3.1 Recreate simple images with hardcoded coordinates"
   ]
  },
  {
   "cell_type": "markdown",
   "metadata": {},
   "source": [
    "#### Example: Square\n",
    "\n",
    "The length of the arc replacing a line should be about some constant times the length of the line.\n",
    "\n",
    "Let that constant be 1.2.\n",
    "\n",
    "Problems: \n",
    "\n",
    "How do we draw convex figures.\n",
    "\n",
    "How do we know which points to connect and how many connections are there.\n",
    "\n",
    "Rule: connect a point to the closest point. If that point is already connected to the current point, connect it to the closest point which has the least connections."
   ]
  },
  {
   "cell_type": "code",
   "execution_count": 498,
   "metadata": {},
   "outputs": [],
   "source": [
    "def closest_point(point, points):\n",
    "    best_dist = 4000\n",
    "    chosen_point = point\n",
    "    \n",
    "    for current_point in points:\n",
    "        if distance_between(point, current_point) < best_dist:\n",
    "#             import pdb; pdb.set_trace()\n",
    "            chosen_point = current_point\n",
    "            best_dist = distance_between(point, current_point)\n",
    "    \n",
    "    return chosen_point\n",
    "\n",
    "def chose_point(point, points, points_connections, connections):\n",
    "    points.remove(point)\n",
    "    not_chosen = True\n",
    "    \n",
    "    while not_chosen:\n",
    "        chosen_point = closest_point(point, points)\n",
    "#         import pdb; pdb.set_trace()\n",
    "        if [point, chosen_point] not in connections:\n",
    "            return chosen_point\n",
    "        \n",
    "        points.remove(chosen_point)\n",
    "        \n",
    "        if len(points) == 0:\n",
    "            return point\n",
    "        "
   ]
  },
  {
   "cell_type": "code",
   "execution_count": 499,
   "metadata": {},
   "outputs": [],
   "source": [
    "points = [(160,160), (360,160), (360,360), (160,360)]\n",
    "\n",
    "c_al = 1.2\n",
    "\n",
    "connections = []\n",
    "for index in range(len(points)-1):\n",
    "    connections.append((points[index], points[index+1]))\n",
    "    \n",
    "connections.append((points[len(points)-1], points[0]))\n"
   ]
  },
  {
   "cell_type": "code",
   "execution_count": 500,
   "metadata": {},
   "outputs": [],
   "source": [
    "def quadrant(point, circle):\n",
    "#     import pdb; pdb.set_trace()\n",
    "    if point[0] >= circle[0] and point[1] <= circle[1]:\n",
    "        return 1\n",
    "    elif point[0] <= circle[0] and point[1] <= circle[1]:\n",
    "        return 2\n",
    "    elif point[0] <= circle[0] and point[1] >= circle[1]:\n",
    "        return 3\n",
    "    \n",
    "    return 4    \n",
    "# to-do: which arc must be decided cleverly\n",
    "#        for now, it will depend on which side\n",
    "#        the points are to the center of the image\n",
    "#        (up/down and right/left)\n",
    "def get_increase_opacity_angles(point1, point2, circle):\n",
    "    zero_degrees_point = (circle[0] + circle[2], circle[1])\n",
    "    \n",
    "    # delta x, delta y between points\n",
    "    delta1_x, delta1_y = zero_degrees_point[0] - point1[0], zero_degrees_point[1] - point1[1]\n",
    "    delta2_x, delta2_y = zero_degrees_point[0] - point2[0], zero_degrees_point[1] - point2[1]\n",
    "    # dist between points\n",
    "    distance_points1 = math.sqrt(delta1_x**2 + delta1_y**2)\n",
    "    distance_points2 = math.sqrt(delta2_x**2 + delta2_y**2)\n",
    "    \n",
    "    angle1 = np.arccos(1 - distance_points1**2/(2 * circle[2]**2))\n",
    "    angle2 = np.arccos(1 - distance_points2**2/(2 * circle[2]**2))\n",
    "    \n",
    "    if quadrant(point1, circle) == 1:\n",
    "        angle1 = np.pi/2 - angle1 + 3/2*np.pi\n",
    "    elif quadrant(point1, circle) == 2:\n",
    "        angle1 = 2*np.pi - angle1\n",
    "    \n",
    "    if quadrant(point2, circle) == 1:\n",
    "        angle2 = np.pi/2 - angle2 + 3/2*np.pi\n",
    "    elif quadrant(point2, circle) == 2:\n",
    "        angle2 = 2*np.pi - angle2\n",
    "    \n",
    "    if ((quadrant(point1, circle) == 1 and quadrant(point2, circle) == 4) or\n",
    "       (quadrant(point2, circle) == 1 and quadrant(point1, circle) == 4)):\n",
    "        return max(angle1, angle2), min(angle1, angle2)\n",
    "    \n",
    "    \n",
    "    return min(angle1, angle2), max(angle1, angle2)"
   ]
  },
  {
   "cell_type": "code",
   "execution_count": 501,
   "metadata": {},
   "outputs": [],
   "source": [
    "def get_circle(point1, point2, scale_const, image_shape):\n",
    "    (point1_x, point1_y), (point2_x, point2_y) = point1, point2\n",
    "\n",
    "    if point1 == point2:\n",
    "        raise ValueError('coincident points gives infinite number of Circles')\n",
    "    \n",
    "    # delta x, delta y between points\n",
    "    delta_x, delta_y = point2_x - point1_x, point2_y - point1_y\n",
    "    # dist between points\n",
    "    distance_points = math.sqrt(delta_x**2 + delta_y**2)\n",
    "    \n",
    "    # scaling radius selected, scale_const must be bigger than 0.5\n",
    "    radius = scale_const * distance_points\n",
    "    if scale_const < 0.5:\n",
    "        raise ValueError('separation of points > diameter')\n",
    "    \n",
    "    # halfway point\n",
    "    point3_x, point3_y = (point1_x + point2_x) / 2, (point1_y + point2_y) / 2\n",
    "    \n",
    "    # distance along the mirror line\n",
    "    distance_mirror = math.sqrt(radius**2 - (distance_points / 2)**2)\n",
    "    \n",
    "    # One answer\n",
    "    left_circle = (point3_x - distance_mirror * delta_y / distance_points,\n",
    "                   point3_y + distance_mirror * delta_x / distance_points,\n",
    "                   abs(radius))\n",
    "    # The other answer\n",
    "    right_circle = (point3_x + distance_mirror * delta_y / distance_points,\n",
    "                    point3_y - distance_mirror * delta_x / distance_points,\n",
    "                    abs(radius))\n",
    "\n",
    "    image_center = image_shape[0] / 2, image_shape[1] / 2\n",
    "    \n",
    "    circle = point_closer_to(image_center, left_circle, right_circle)\n",
    "    \n",
    "    return circle"
   ]
  },
  {
   "cell_type": "code",
   "execution_count": 502,
   "metadata": {},
   "outputs": [],
   "source": [
    "def create_circle_layer(surface_shape, points, radius_scale):\n",
    "    width, height, channels = surface_shape\n",
    "    \n",
    "    background = np.zeros((width, height, channels), dtype=np.uint8)\n",
    "    main_surface = cairo.ImageSurface.create_for_data(\n",
    "        background, cairo.FORMAT_ARGB32, width, height)\n",
    "\n",
    "    cr = cairo.Context(main_surface)\n",
    "\n",
    "    # draw background\n",
    "    cr.set_source_rgba(1.0, 1.0, 1.0, 1)\n",
    "    cr.paint()\n",
    "\n",
    "    # draw the two points\n",
    "    point1 = points[0]\n",
    "    point2 = points[1]\n",
    "\n",
    "#     cr.set_source_rgba(1, 0.2, 0.2, 0.6)\n",
    "#     cr.arc(point1[0], point1[1], 4.0, 0, 2*np.pi)\n",
    "#     cr.arc(point2[0], point2[1], 4.0, 0, 2*np.pi)\n",
    "#     cr.fill()\n",
    "\n",
    "    # draw the circle\n",
    "    circle = get_circle(point1, point2, radius_scale, background.shape)\n",
    "    cr.set_source_rgba(1, 0.2, 0.2, 0.1)\n",
    "    cr.arc(circle[0], circle[1], circle[2], 0, 2*math.pi)\n",
    "    cr.set_line_width(3)\n",
    "    cr.stroke()\n",
    "\n",
    "    # increase opacity\n",
    "    angle_start, angle_stop = get_increase_opacity_angles(point1, point2, circle)\n",
    "#     pdb.set_trace()\n",
    "    \n",
    "    # draw the circle\n",
    "    cr.set_source_rgba(1, 0.2, 0.2, 1)\n",
    "    cr.arc(circle[0], circle[1], circle[2], angle_start, angle_stop)\n",
    "    cr.set_line_width(3)\n",
    "    cr.stroke()\n",
    "    \n",
    "    return background"
   ]
  },
  {
   "cell_type": "code",
   "execution_count": 503,
   "metadata": {},
   "outputs": [
    {
     "name": "stdout",
     "output_type": "stream",
     "text": [
      "(520, 520, 4)\n"
     ]
    }
   ],
   "source": [
    "def draw_image(connections, image_shape, radius_scale):\n",
    "    print(image_shape)\n",
    "    width, height, channels = image_shape\n",
    "    \n",
    "    background = np.zeros(image_shape, dtype=np.uint8)\n",
    "    main_surface = cairo.ImageSurface.create_for_data(\n",
    "        background, cairo.FORMAT_ARGB32, width, height)\n",
    "\n",
    "    cr = cairo.Context(main_surface)\n",
    "\n",
    "    # draw background\n",
    "    cr.set_source_rgba(1.0, 1.0, 1.0, 1)\n",
    "    cr.paint()\n",
    "    \n",
    "    for connection in connections:\n",
    "        circle_layer = create_circle_layer(image_shape, connection, radius_scale)\n",
    "        \n",
    "        background += circle_layer\n",
    "    \n",
    "    return background, main_surface\n",
    "\n",
    "image, surface = draw_image(connections, (520, 520, 4), 0.95)\n",
    "        \n",
    "# plot_image(image)\n",
    "surface.write_to_png(\"square.png\")"
   ]
  },
  {
   "cell_type": "markdown",
   "metadata": {},
   "source": [
    "For the input below, we must first smooth the contour and then find some point in order to create our connections for the circles."
   ]
  },
  {
   "cell_type": "code",
   "execution_count": 504,
   "metadata": {},
   "outputs": [
    {
     "data": {
      "image/png": "[encoded data removed]",
      "text/plain": [
       "<Figure size 432x288 with 1 Axes>"
      ]
     },
     "metadata": {
      "needs_background": "light"
     },
     "output_type": "display_data"
    }
   ],
   "source": [
    "input_image = imageio.imread(\"noised_contour.png\")\n",
    "plot_image(input_image)"
   ]
  },
  {
   "cell_type": "code",
   "execution_count": 505,
   "metadata": {},
   "outputs": [
    {
     "name": "stdout",
     "output_type": "stream",
     "text": [
      "(600, 600, 4)\n",
      "(600, 600, 3)\n",
      "(600, 600)\n"
     ]
    },
    {
     "data": {
      "image/png": "[encoded data removed]",
      "text/plain": [
       "<Figure size 1440x1080 with 4 Axes>"
      ]
     },
     "metadata": {
      "needs_background": "light"
     },
     "output_type": "display_data"
    }
   ],
   "source": [
    "input_image = np.array(input_image)\n",
    "print(input_image.shape)\n",
    "gray_image = input_image[:,:,:3]\n",
    "print(gray_image.shape)\n",
    "gray_image = rgb2gray(gray_image).astype(np.uint8)\n",
    "\n",
    "print(gray_image.shape)\n",
    "\n",
    "median = scipy.signal.medfilt(gray_image, 7)\n",
    "gaussian = cv.GaussianBlur(gray_image, (11,11), 3)\n",
    "denoise = cv.fastNlMeansDenoising(gray_image, None, 30, 3, 11)\n",
    "\n",
    "plt.figure(figsize=(20,15))\n",
    "\n",
    "plt.subplot(141)\n",
    "plt.imshow(gray_image, cmap='gray')\n",
    "plt.title(\"original image\")\n",
    "\n",
    "plt.subplot(142)\n",
    "plt.imshow(median, cmap='gray')\n",
    "plt.title(\"median filter\")\n",
    "\n",
    "plt.subplot(143)\n",
    "plt.imshow(gaussian, cmap='gray')\n",
    "plt.title(\"gaussian filter\")\n",
    "\n",
    "plt.subplot(144)\n",
    "plt.imshow(denoise, cmap='gray')\n",
    "plt.title(\"denoise filter\")\n",
    "\n",
    "plt.show()"
   ]
  },
  {
   "cell_type": "markdown",
   "metadata": {},
   "source": [
    "Give up smoothing for now, let's try to find contours and interpolate the points."
   ]
  },
  {
   "cell_type": "code",
   "execution_count": 506,
   "metadata": {},
   "outputs": [
    {
     "name": "stdout",
     "output_type": "stream",
     "text": [
      "[425, 386, 349, 314, 281, 250, 221, 194, 169, 146, 125, 106, 89, 74, 61, 50, 41, 34, 29, 26, 25, 26, 29, 34, 41, 50, 61, 74, 89, 106, 125, 146, 169, 194, 221, 250, 281, 314, 349, 386]\n",
      "[34, 89, 146, 281, 194, 281, 250, 74, 74, 146, 425, 25, 125, 106, 250, 386, 26, 61, 349, 314, 314, 194, 125, 26, 50, 169, 41, 89, 41, 221, 169, 34, 50, 29, 349, 106, 221, 29, 386, 61]\n",
      "-46.368358400000204\n"
     ]
    },
    {
     "data": {
      "image/png": "[encoded data removed]",
      "text/plain": [
       "<Figure size 432x288 with 1 Axes>"
      ]
     },
     "metadata": {
      "needs_background": "light"
     },
     "output_type": "display_data"
    }
   ],
   "source": [
    "from scipy.interpolate import KroghInterpolator\n",
    "import random\n",
    "\n",
    "x=range(-20,20)\n",
    "y=[]\n",
    "for i in x:\n",
    "    y.append((i**2)+25)\n",
    "\n",
    "print(y)\n",
    "random.shuffle(y)\n",
    "print(y)\n",
    "\n",
    "x=x[1::5]\n",
    "y=y[1::5]\n",
    "\n",
    "f=KroghInterpolator(x,y)\n",
    "xfine=np.arange(min(x),max(x),.5)\n",
    "yfine=f(xfine)\n",
    "\n",
    "val_interp=min(yfine)\n",
    "print(val_interp)\n",
    "\n",
    "plt.scatter(x,y)\n",
    "plt.plot(xfine, yfine)\n",
    "plt.show()"
   ]
  },
  {
   "cell_type": "code",
   "execution_count": 507,
   "metadata": {},
   "outputs": [
    {
     "name": "stdout",
     "output_type": "stream",
     "text": [
      "1\n"
     ]
    },
    {
     "data": {
      "image/png": "[encoded data removed]",
      "text/plain": [
       "<Figure size 432x288 with 1 Axes>"
      ]
     },
     "metadata": {
      "needs_background": "light"
     },
     "output_type": "display_data"
    },
    {
     "data": {
      "image/png": "[encoded data removed]",
      "text/plain": [
       "<Figure size 720x720 with 1 Axes>"
      ]
     },
     "metadata": {
      "needs_background": "light"
     },
     "output_type": "display_data"
    }
   ],
   "source": [
    "from skimage import measure\n",
    "\n",
    "original_image = imageio.imread(\"medium.png\")\n",
    "original_image = rgb2gray(original_image[:,:,:3]).astype(np.uint8)\n",
    "\n",
    "plt.imshow(original_image, cmap='gray')\n",
    "\n",
    "contours = measure.find_contours(original_image, \n",
    "                                 0, \n",
    "                                 fully_connected='high',\n",
    "                                 positive_orientation='low')\n",
    "\n",
    "print(len(contours))\n",
    "\n",
    "plt.figure(figsize=(10, 10))\n",
    "plt.imshow(original_image, cmap='gray')\n",
    "for _, contour in enumerate(contours):\n",
    "    plt.plot(contour[:, 1], contour[:, 0], linewidth=2)\n",
    "plt.title('Contours found')\n",
    "plt.axis('off')\n",
    "\n",
    "plt.show()"
   ]
  },
  {
   "cell_type": "code",
   "execution_count": 508,
   "metadata": {},
   "outputs": [
    {
     "name": "stdout",
     "output_type": "stream",
     "text": [
      "[432. 276.]\n"
     ]
    }
   ],
   "source": [
    "print(contours[0][0])"
   ]
  },
  {
   "cell_type": "code",
   "execution_count": 565,
   "metadata": {},
   "outputs": [
    {
     "name": "stdout",
     "output_type": "stream",
     "text": [
      "572\n",
      "197\n",
      "572\n",
      "572\n",
      "-1.7596228574968451e+49\n"
     ]
    },
    {
     "data": {
      "image/png": "[encoded data removed]",
      "text/plain": [
       "<Figure size 432x288 with 1 Axes>"
      ]
     },
     "metadata": {
      "needs_background": "light"
     },
     "output_type": "display_data"
    }
   ],
   "source": [
    "from collections import defaultdict\n",
    "\n",
    "oX = [x[1] for x in contours[0]]\n",
    "oY = [x[0] for x in contours[0]]\n",
    "\n",
    "duplicates = defaultdict(list)\n",
    "for index, x in enumerate(oX):\n",
    "    duplicates[x].append(index)\n",
    "\n",
    "good_indexes = []\n",
    "for x, indexes in sorted(duplicates.items()):\n",
    "    good_indexes.append(indexes[0])\n",
    "      \n",
    "new_oX = []\n",
    "new_oY = []\n",
    "for index in good_indexes:\n",
    "    new_oX.append(oX[index])\n",
    "    new_oY.append(oY[index])\n",
    "        \n",
    "print(len(new_oY))\n",
    "print(len(np.unique(new_oY)))\n",
    "print(len(new_oX))\n",
    "print(len(np.unique(new_oX)))\n",
    "\n",
    "x = new_oX\n",
    "y = new_oY\n",
    "\n",
    "all_points = list(zip(x,y))\n",
    "\n",
    "x=new_oX[1::5]\n",
    "y=new_oY[1::5]\n",
    "\n",
    "f=KroghInterpolator(x,y)\n",
    "xfine=np.arange(min(x),max(x),.5)\n",
    "yfine=f(xfine)\n",
    "\n",
    "val_interp=min(yfine)\n",
    "print(val_interp)\n",
    "\n",
    "plt.scatter(x,y)\n",
    "plt.plot(xfine, yfine)\n",
    "plt.ylim(100, 250)\n",
    "plt.show()"
   ]
  },
  {
   "cell_type": "code",
   "execution_count": 566,
   "metadata": {},
   "outputs": [
    {
     "data": {
      "text/plain": [
       "[<matplotlib.lines.Line2D at 0x7f3bf2142ee0>]"
      ]
     },
     "execution_count": 566,
     "metadata": {},
     "output_type": "execute_result"
    },
    {
     "data": {
      "image/png": "[encoded data removed]",
      "text/plain": [
       "<Figure size 432x288 with 1 Axes>"
      ]
     },
     "metadata": {
      "needs_background": "light"
     },
     "output_type": "display_data"
    }
   ],
   "source": [
    "z = np.polyfit(x, y, 7)\n",
    "p = np.poly1d(z)\n",
    "\n",
    "plt.scatter(x,y)\n",
    "plt.plot(x, p(x))"
   ]
  },
  {
   "cell_type": "markdown",
   "metadata": {},
   "source": [
    "## Random version of connections selection"
   ]
  },
  {
   "cell_type": "code",
   "execution_count": 545,
   "metadata": {},
   "outputs": [
    {
     "data": {
      "image/png": "[encoded data removed]",
      "text/plain": [
       "<Figure size 432x288 with 1 Axes>"
      ]
     },
     "metadata": {
      "needs_background": "light"
     },
     "output_type": "display_data"
    }
   ],
   "source": [
    "new_x = np.arange(min(x), max(x), random.randint(0, 100))\n",
    "new_x = np.append(new_x, max(x))\n",
    "new_y = p(new_x)\n",
    "\n",
    "points = list(zip(new_x, new_y))\n",
    "\n",
    "connections = []\n",
    "for index in range(len(points)-1):\n",
    "    connections.append((points[index], points[index+1]))\n",
    "\n",
    "def scatter_reverse_y(x, y):\n",
    "    plt.figure()\n",
    "    plt.scatter(x, y)\n",
    "    ax = plt.gca()                          # get the axis\n",
    "    ax.set_ylim(0, 600)\n",
    "    ax.set_ylim(ax.get_ylim()[::-1])        # invert the axis\n",
    "    ax.xaxis.tick_top()\n",
    "    ax.yaxis.tick_left()                    # remove right y-Ticks\n",
    "\n",
    "scatter_reverse_y(new_x, new_y)"
   ]
  },
  {
   "cell_type": "code",
   "execution_count": 546,
   "metadata": {},
   "outputs": [
    {
     "name": "stdout",
     "output_type": "stream",
     "text": [
      "(600, 600, 4)\n"
     ]
    },
    {
     "data": {
      "image/png": "[encoded data removed]",
      "text/plain": [
       "<Figure size 432x288 with 1 Axes>"
      ]
     },
     "metadata": {
      "needs_background": "light"
     },
     "output_type": "display_data"
    }
   ],
   "source": [
    "image, surface = draw_image(points, connections, (600, 600, 4), 0.95)\n",
    "\n",
    "surface.write_to_png(\"easy_random.png\")\n",
    "plot_image(image)\n",
    "\n",
    "points = []"
   ]
  },
  {
   "cell_type": "markdown",
   "metadata": {},
   "source": [
    "## Kneed version of connections selection"
   ]
  },
  {
   "cell_type": "code",
   "execution_count": 547,
   "metadata": {},
   "outputs": [],
   "source": [
    "from kneed import KneeLocator\n",
    "\n",
    "new_x = np.arange(min(x), max(x), 5)\n",
    "new_x = np.append(new_x, max(x))\n",
    "new_y = p(new_x)\n",
    "\n",
    "searching_point_x = new_x[0]\n",
    "searching_point_y = new_y[0]\n",
    "points.append((searching_point_x, searching_point_y))\n",
    "while len(new_x) > 10:\n",
    "    kneedle = KneeLocator(new_x, new_y, S=1.0)\n",
    "    \n",
    "    searching_point_x = kneedle.knee\n",
    "    searching_point_y = kneedle.knee_y\n",
    "\n",
    "    points.append((searching_point_x, searching_point_y))\n",
    "    \n",
    "    new_x = np.arange(searching_point_x+5, max(x), 5)\n",
    "    new_y = p(new_x)"
   ]
  },
  {
   "cell_type": "code",
   "execution_count": 548,
   "metadata": {},
   "outputs": [
    {
     "data": {
      "image/png": "[encoded data removed]",
      "text/plain": [
       "<Figure size 432x288 with 1 Axes>"
      ]
     },
     "metadata": {
      "needs_background": "light"
     },
     "output_type": "display_data"
    }
   ],
   "source": [
    "chosen_x, chosen_y = [[x for x, y in points],\n",
    "        [y for x, y in points]]\n",
    "\n",
    "scatter_reverse_y(chosen_x, chosen_y)"
   ]
  },
  {
   "cell_type": "markdown",
   "metadata": {},
   "source": [
    "As we can see, we can't use this directly like this. Let's try a method involving local minimas&maximas."
   ]
  },
  {
   "cell_type": "markdown",
   "metadata": {},
   "source": [
    "## Local minima & maxima version of connections selection"
   ]
  },
  {
   "cell_type": "code",
   "execution_count": 549,
   "metadata": {},
   "outputs": [
    {
     "name": "stdout",
     "output_type": "stream",
     "text": [
      "[433.35529477 280.93861815 285.74892288 250.50703932]\n",
      "[269.0, 544.0, 89.0, 469.0]\n"
     ]
    }
   ],
   "source": [
    "from scipy.signal import argrelextrema\n",
    "\n",
    "new_x = np.arange(min(x), max(x), 5)\n",
    "new_x = np.append(new_x, max(x))\n",
    "new_y = p(new_x)\n",
    "\n",
    "minimas = argrelextrema(new_y, np.greater)\n",
    "maximas = argrelextrema(new_y, np.less)\n",
    "\n",
    "local_y = new_y[minimas[0]]\n",
    "for value in new_y[maximas[0]]:\n",
    "    local_y = np.append(local_y, value)\n",
    "\n",
    "local_x = []\n",
    "for value in local_y:\n",
    "    for current_x in new_x:\n",
    "        if int(p(current_x)) == int(value):\n",
    "            local_x.append(current_x)\n",
    "            break\n",
    "\n",
    "print(local_y)\n",
    "print(local_x)"
   ]
  },
  {
   "cell_type": "code",
   "execution_count": 550,
   "metadata": {},
   "outputs": [
    {
     "name": "stdout",
     "output_type": "stream",
     "text": [
      "[24.0, 89.0, 269.0, 469.0, 544.0, 594.0]\n"
     ]
    }
   ],
   "source": [
    "local_x.append(new_x[0])\n",
    "local_x.append(max(new_x))\n",
    "local_x = sorted(local_x)\n",
    "print(local_x)"
   ]
  },
  {
   "cell_type": "code",
   "execution_count": 551,
   "metadata": {},
   "outputs": [
    {
     "name": "stdout",
     "output_type": "stream",
     "text": [
      "[334.18804845806653, 285.74892287870165, 433.15061483048265, 250.54724338946411, 280.9386181507134, 185.52723858461783]\n"
     ]
    }
   ],
   "source": [
    "local_y = [value for value in p(local_x)]\n",
    "print(local_y)"
   ]
  },
  {
   "cell_type": "code",
   "execution_count": 552,
   "metadata": {},
   "outputs": [
    {
     "ename": "TypeError",
     "evalue": "draw_image() missing 1 required positional argument: 'radius_scale'",
     "output_type": "error",
     "traceback": [
      "\u001b[0;31m---------------------------------------------------------------\u001b[0m",
      "\u001b[0;31mTypeError\u001b[0m                     Traceback (most recent call last)",
      "\u001b[0;32m<ipython-input-552-9eeb0441bafc>\u001b[0m in \u001b[0;36m<module>\u001b[0;34m\u001b[0m\n\u001b[1;32m     11\u001b[0m \u001b[0mconnections\u001b[0m \u001b[0;34m=\u001b[0m \u001b[0mmake_connections\u001b[0m\u001b[0;34m(\u001b[0m\u001b[0mpoints\u001b[0m\u001b[0;34m)\u001b[0m\u001b[0;34m\u001b[0m\u001b[0;34m\u001b[0m\u001b[0m\n\u001b[1;32m     12\u001b[0m \u001b[0;34m\u001b[0m\u001b[0m\n\u001b[0;32m---> 13\u001b[0;31m \u001b[0mimage\u001b[0m\u001b[0;34m,\u001b[0m \u001b[0msurface\u001b[0m \u001b[0;34m=\u001b[0m \u001b[0mdraw_image\u001b[0m\u001b[0;34m(\u001b[0m\u001b[0mconnections\u001b[0m\u001b[0;34m,\u001b[0m \u001b[0;34m(\u001b[0m\u001b[0;36m600\u001b[0m\u001b[0;34m,\u001b[0m \u001b[0;36m600\u001b[0m\u001b[0;34m,\u001b[0m \u001b[0;36m4\u001b[0m\u001b[0;34m)\u001b[0m\u001b[0;34m,\u001b[0m \u001b[0;36m0.95\u001b[0m\u001b[0;34m)\u001b[0m\u001b[0;34m\u001b[0m\u001b[0;34m\u001b[0m\u001b[0m\n\u001b[0m\u001b[1;32m     14\u001b[0m \u001b[0;34m\u001b[0m\u001b[0m\n\u001b[1;32m     15\u001b[0m \u001b[0msurface\u001b[0m\u001b[0;34m.\u001b[0m\u001b[0mwrite_to_png\u001b[0m\u001b[0;34m(\u001b[0m\u001b[0;34m\"easy_local.png\"\u001b[0m\u001b[0;34m)\u001b[0m\u001b[0;34m\u001b[0m\u001b[0;34m\u001b[0m\u001b[0m\n",
      "\u001b[0;31mTypeError\u001b[0m: draw_image() missing 1 required positional argument: 'radius_scale'"
     ]
    },
    {
     "data": {
      "image/png": "[encoded data removed]",
      "text/plain": [
       "<Figure size 432x288 with 1 Axes>"
      ]
     },
     "metadata": {
      "needs_background": "light"
     },
     "output_type": "display_data"
    }
   ],
   "source": [
    "points = list(zip(local_x, local_y))\n",
    "scatter_reverse_y(local_x, local_y)\n",
    "\n",
    "def make_connections(points):\n",
    "    connections = []\n",
    "    for index in range(len(points)-1):\n",
    "        connections.append((points[index], points[index+1]))\n",
    "    \n",
    "    return connections\n",
    "\n",
    "connections = make_connections(points)\n",
    "\n",
    "image, surface = draw_image(connections, (600, 600, 4), 0.95)\n",
    "\n",
    "surface.write_to_png(\"easy_local.png\")\n",
    "# plt.figure()\n",
    "# plt.imshow(original_image, cmap='gray')\n",
    "# plt.scatter(local_x, local_y)\n",
    "# plt.imshow(image)\n",
    "plt.imshow(image)"
   ]
  },
  {
   "cell_type": "markdown",
   "metadata": {},
   "source": [
    "## Modify the selection of circle via number of points left/right of the line formed by those two points"
   ]
  },
  {
   "cell_type": "code",
   "execution_count": 575,
   "metadata": {},
   "outputs": [],
   "source": [
    "def get_side(point, point1, point2):\n",
    "    side = ((point2[0] - point1[0]) * (point[1] - point1[1]) - \n",
    "             (point2[1] - point1[1]) * (point[0] - point1[0]))\n",
    "    \n",
    "    \n",
    "    if side == 0:  # on the line\n",
    "        return 0\n",
    "    elif side > 0: # right side\n",
    "        return 1\n",
    "    else:          # left side\n",
    "        return -1\n",
    "\n",
    "# might be a good idea if the points from image_points are already selected to be from the contour\n",
    "# from point1 to point2 and not all points\n",
    "def select_circle(image_points, point1, point2, left_circle, right_circle):\n",
    "    no_left_points = 0\n",
    "    no_right_points = 0\n",
    "    \n",
    "    for point in image_points:\n",
    "        if point[0] > min(point1[0], point2[0]) and point[0] < max(point1[0], point2[0]):\n",
    "            if get_side(point, point1, point2) == 1:\n",
    "                no_right_points += 1\n",
    "            elif get_side(point, point1, point2) == -1:\n",
    "                no_left_points += 1\n",
    "    \n",
    "    print(\"{} > {}\".format(no_left_points, no_right_points))\n",
    "    \n",
    "    if no_left_points > no_right_points:\n",
    "        return left_circle\n",
    "    else:\n",
    "        return right_circle\n",
    "\n",
    "def get_circle_improved(image_points, point1, point2, scale_const, image_shape):\n",
    "    (point1_x, point1_y), (point2_x, point2_y) = point1, point2\n",
    "\n",
    "    if point1 == point2:\n",
    "        raise ValueError('coincident points gives infinite number of Circles')\n",
    "    \n",
    "    # delta x, delta y between points\n",
    "    delta_x, delta_y = point2_x - point1_x, point2_y - point1_y\n",
    "    # dist between points\n",
    "    distance_points = math.sqrt(delta_x**2 + delta_y**2)\n",
    "    \n",
    "    # scaling radius selected, scale_const must be bigger than 0.5\n",
    "    radius = scale_const * distance_points\n",
    "    if scale_const < 0.5:\n",
    "        raise ValueError('separation of points > diameter')\n",
    "    \n",
    "    # halfway point\n",
    "    point3_x, point3_y = (point1_x + point2_x) / 2, (point1_y + point2_y) / 2\n",
    "    \n",
    "    # distance along the mirror line\n",
    "    distance_mirror = math.sqrt(radius**2 - (distance_points / 2)**2)\n",
    "    \n",
    "    # One answer\n",
    "    left_circle = (point3_x - distance_mirror * delta_y / distance_points,\n",
    "                   point3_y + distance_mirror * delta_x / distance_points,\n",
    "                   abs(radius))\n",
    "    # The other answer\n",
    "    right_circle = (point3_x + distance_mirror * delta_y / distance_points,\n",
    "                    point3_y - distance_mirror * delta_x / distance_points,\n",
    "                    abs(radius))\n",
    "\n",
    "    image_center = image_shape[0] / 2, image_shape[1] / 2\n",
    "    \n",
    "    circle = select_circle(image_points, point1, point2, left_circle, right_circle)\n",
    "    \n",
    "    return circle\n",
    "\n",
    "def create_circle_layer(image_points, surface_shape, points, radius_scale):\n",
    "    width, height, channels = surface_shape\n",
    "    \n",
    "    background = np.zeros((width, height, channels), dtype=np.uint8)\n",
    "    main_surface = cairo.ImageSurface.create_for_data(\n",
    "        background, cairo.FORMAT_ARGB32, width, height)\n",
    "\n",
    "    cr = cairo.Context(main_surface)\n",
    "\n",
    "    # draw background\n",
    "    cr.set_source_rgba(1.0, 1.0, 1.0, 1)\n",
    "    cr.paint()\n",
    "\n",
    "    # draw the two points\n",
    "    point1 = points[0]\n",
    "    point2 = points[1]\n",
    "\n",
    "#     cr.set_source_rgba(1, 0.2, 0.2, 0.6)\n",
    "#     cr.arc(point1[0], point1[1], 4.0, 0, 2*np.pi)\n",
    "#     cr.arc(point2[0], point2[1], 4.0, 0, 2*np.pi)\n",
    "#     cr.fill()\n",
    "\n",
    "    # draw the circle\n",
    "    circle = get_circle_improved(image_points, point1, point2, radius_scale, background.shape)\n",
    "    cr.set_source_rgba(1, 0.2, 0.2, 0.1)\n",
    "    cr.arc(circle[0], circle[1], circle[2], 0, 2*math.pi)\n",
    "    cr.set_line_width(3)\n",
    "    cr.stroke()\n",
    "\n",
    "    # increase opacity\n",
    "    angle_start, angle_stop = get_increase_opacity_angles(point1, point2, circle)\n",
    "#     pdb.set_trace()\n",
    "    \n",
    "    # draw the circle\n",
    "    cr.set_source_rgba(1, 0.2, 0.2, 1)\n",
    "    cr.arc(circle[0], circle[1], circle[2], angle_start, angle_stop)\n",
    "    cr.set_line_width(3)\n",
    "    cr.stroke()\n",
    "    \n",
    "    return background\n",
    "\n",
    "def draw_image(image_points, connections, image_shape, radius_scale):\n",
    "    print(image_shape)\n",
    "    width, height, channels = image_shape\n",
    "    \n",
    "    background = np.zeros(image_shape, dtype=np.uint8)\n",
    "    main_surface = cairo.ImageSurface.create_for_data(\n",
    "        background, cairo.FORMAT_ARGB32, width, height)\n",
    "\n",
    "    cr = cairo.Context(main_surface)\n",
    "\n",
    "    # draw background\n",
    "    cr.set_source_rgba(1.0, 1.0, 1.0, 1)\n",
    "    cr.paint()\n",
    "    \n",
    "    for connection in connections:\n",
    "        circle_layer = create_circle_layer(image_points, image_shape, connection, radius_scale)\n",
    "        \n",
    "        background += circle_layer\n",
    "    \n",
    "    return background, main_surface"
   ]
  },
  {
   "cell_type": "code",
   "execution_count": 576,
   "metadata": {},
   "outputs": [
    {
     "name": "stdout",
     "output_type": "stream",
     "text": [
      "(600, 600, 4)\n",
      "59 > 5\n",
      "93 > 86\n",
      "82 > 117\n",
      "9 > 65\n",
      "4 > 45\n"
     ]
    },
    {
     "data": {
      "text/plain": [
       "<matplotlib.collections.PathCollection at 0x7f3bf1e6e340>"
      ]
     },
     "execution_count": 576,
     "metadata": {},
     "output_type": "execute_result"
    },
    {
     "data": {
      "image/png": "[encoded data removed]",
      "text/plain": [
       "<Figure size 432x288 with 1 Axes>"
      ]
     },
     "metadata": {
      "needs_background": "light"
     },
     "output_type": "display_data"
    }
   ],
   "source": [
    "image, surface = draw_image(all_points, connections, (600, 600, 4), 1)\n",
    "\n",
    "surface.write_to_png(\"easy_local.png\")\n",
    "plt.imshow(image)\n",
    "plt.scatter(x, y)\n",
    "# print(points)"
   ]
  },
  {
   "cell_type": "markdown",
   "metadata": {},
   "source": [
    "## Contour walking method"
   ]
  },
  {
   "cell_type": "code",
   "execution_count": null,
   "metadata": {},
   "outputs": [],
   "source": []
  }
 ],
 "metadata": {
  "kernelspec": {
   "display_name": "Python 3",
   "language": "python",
   "name": "python3"
  },
  "language_info": {
   "codemirror_mode": {
    "name": "ipython",
    "version": 3
   },
   "file_extension": ".py",
   "mimetype": "text/x-python",
   "name": "python",
   "nbconvert_exporter": "python",
   "pygments_lexer": "ipython3",
   "version": "3.8.2"
  }
 },
 "nbformat": 4,
 "nbformat_minor": 2
}
