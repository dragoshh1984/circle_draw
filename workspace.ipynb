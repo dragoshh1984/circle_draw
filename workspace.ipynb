{
 "cells": [
  {
   "cell_type": "markdown",
   "metadata": {},
   "source": [
    "# Draw an image full of circles of which arcs make up the original image "
   ]
  },
  {
   "cell_type": "markdown",
   "metadata": {},
   "source": [
    "## Example showing the desired output\n",
    "\n",
    "![title](desired_image.jpg)"
   ]
  },
  {
   "cell_type": "markdown",
   "metadata": {},
   "source": [
    "## 4. Subproblem: Create gradient background"
   ]
  },
  {
   "cell_type": "markdown",
   "metadata": {},
   "source": [
    "## 0. Subproblem: Select the right tools\n",
    "\n",
    "[Cairo](https://www.cairographics.org/documentation/) seems the right choice regarding drawing while using numpy arrays as base for its drawing."
   ]
  },
  {
   "cell_type": "markdown",
   "metadata": {},
   "source": [
    "### Create background image sample"
   ]
  },
  {
   "cell_type": "code",
   "execution_count": 6,
   "metadata": {},
   "outputs": [],
   "source": [
    "import numpy as np\n",
    "import cairo\n",
    "import math"
   ]
  },
  {
   "cell_type": "code",
   "execution_count": 313,
   "metadata": {},
   "outputs": [],
   "source": [
    "\n",
    "def plot_image(image):\n",
    "    plt.imshow(image.astype(np.uint8))\n",
    "#     plt.axis('off')\n",
    "    \n",
    "    plt.show()\n",
    "\n",
    "background = np.zeros((200, 200, 4), dtype=np.uint8)\n",
    "surface = cairo.ImageSurface.create_for_data(\n",
    "    background, cairo.FORMAT_ARGB32, 200, 200)\n",
    "\n",
    "cr = cairo.Context(surface)\n",
    "\n",
    "cr.set_source_rgba(1.0, 1.0, 1.0, 1)\n",
    "cr.paint()\n",
    "\n",
    "# cr.arc(100, 100, 80, 0, 2*math.pi)\n",
    "# cr.set_line_width(3)\n",
    "# cr.set_source_rgb(1.0, 0.0, 0.0)\n",
    "# cr.stroke()\n",
    "\n",
    "# print(background)\n",
    "surface.write_to_png(\"circle.png\")"
   ]
  },
  {
   "cell_type": "code",
   "execution_count": 314,
   "metadata": {},
   "outputs": [
    {
     "data": {
      "image/png": "[encoded data removed]",
      "text/plain": [
       "<Figure size 432x288 with 1 Axes>"
      ]
     },
     "metadata": {
      "needs_background": "light"
     },
     "output_type": "display_data"
    }
   ],
   "source": [
    "plot_image(background)"
   ]
  },
  {
   "cell_type": "markdown",
   "metadata": {},
   "source": [
    "## 1. Subproblem: Draw a circle through two points"
   ]
  },
  {
   "cell_type": "code",
   "execution_count": 315,
   "metadata": {},
   "outputs": [],
   "source": [
    "cr.set_source_rgba(1, 0.2, 0.2, 0.6)\n",
    "\n",
    "p1_x = 50\n",
    "p1_y = 50\n",
    "\n",
    "p2_x = 50\n",
    "p2_y = 150\n",
    "\n",
    "cr.arc (p1_x, p1_y, 4.0, 0, 2*np.pi)\n",
    "cr.arc (p2_x, p2_y, 4.0, 0, 2*np.pi)\n",
    "cr.fill ();"
   ]
  },
  {
   "cell_type": "code",
   "execution_count": 316,
   "metadata": {},
   "outputs": [
    {
     "data": {
      "image/png": "[encoded data removed]",
      "text/plain": [
       "<Figure size 432x288 with 1 Axes>"
      ]
     },
     "metadata": {
      "needs_background": "light"
     },
     "output_type": "display_data"
    }
   ],
   "source": [
    "plot_image(background)"
   ]
  },
  {
   "cell_type": "code",
   "execution_count": 317,
   "metadata": {},
   "outputs": [],
   "source": [
    "def circles_from_p1p2r(p1, p2, r):\n",
    "    'Following explanation at http://mathforum.org/library/drmath/view/53027.html'\n",
    "    if r == 0.0:\n",
    "        raise ValueError('radius of zero')\n",
    "    (x1, y1), (x2, y2) = p1, p2\n",
    "    if p1 == p2:\n",
    "        raise ValueError('coincident points gives infinite number of Circles')\n",
    "    # delta x, delta y between points\n",
    "    dx, dy = x2 - x1, y2 - y1\n",
    "    # dist between points\n",
    "    q = math.sqrt(dx**2 + dy**2)\n",
    "    if q > 2.0*r:\n",
    "        raise ValueError('separation of points > diameter')\n",
    "    # halfway point\n",
    "    x3, y3 = (x1+x2)/2, (y1+y2)/2\n",
    "    # distance along the mirror line\n",
    "    d = math.sqrt(r**2-(q/2)**2)\n",
    "    # One answer\n",
    "    c1 = (x3 - d*dy/q,\n",
    "          y3 + d*dx/q,\n",
    "          abs(r))\n",
    "    # The other answer\n",
    "    c2 = (x3 + d*dy/q,\n",
    "          y3 - d*dx/q,\n",
    "          abs(r))\n",
    "    return c1, c2"
   ]
  },
  {
   "cell_type": "code",
   "execution_count": 318,
   "metadata": {},
   "outputs": [
    {
     "data": {
      "image/png": "[encoded data removed]",
      "text/plain": [
       "<Figure size 432x288 with 1 Axes>"
      ]
     },
     "metadata": {
      "needs_background": "light"
     },
     "output_type": "display_data"
    }
   ],
   "source": [
    "c1, c2 = circles_from_p1p2r((p1_x, p1_y), (p2_x, p2_y), 60.0)\n",
    "\n",
    "# cr.arc(c1[0], c1[1], c1[2], 0, 2*math.pi)\n",
    "# cr.set_line_width(3)\n",
    "# cr.set_source_rgb(1.0, 0.0, 0.0)\n",
    "# cr.stroke()\n",
    "\n",
    "cr.arc(c2[0], c2[1], c2[2], 0, 2*math.pi)\n",
    "cr.set_line_width(3)\n",
    "cr.set_source_rgba(0.4, 0.6, 0.8, 0.3)\n",
    "cr.stroke()\n",
    "\n",
    "plot_image(background)"
   ]
  },
  {
   "cell_type": "code",
   "execution_count": 323,
   "metadata": {},
   "outputs": [
    {
     "name": "stdout",
     "output_type": "stream",
     "text": [
      "[[255 255 255 ... 255 255 255]\n",
      " [255 255 255 ... 255 255 255]\n",
      " [255 255 255 ... 255 255 255]\n",
      " ...\n",
      " [255 255 255 ... 255 255 255]\n",
      " [255 255 255 ... 255 255 255]\n",
      " [255 255 255 ... 255 255 255]]\n",
      "[128 132 133 134 135 136 137 138 139 140 141 142 143 144 146 148 149 150\n",
      " 151 152 153 154 156 162 163 165 167 169 170 171 172 177 178 207 209 210\n",
      " 211 212 213 214 215 216 217 218 219 220 221 222 223 224 225 226 227 228\n",
      " 229 230 231 232 233 234 235 236 237 238 239 240 241 242 243 244 245 246\n",
      " 247 248 249 250 251 252 253 254 255]\n",
      "[[28 28 28 ... 28 28 28]\n",
      " [28 28 28 ... 28 28 28]\n",
      " [28 28 28 ... 28 28 28]\n",
      " ...\n",
      " [28 28 28 ... 28 28 28]\n",
      " [28 28 28 ... 28 28 28]\n",
      " [28 28 28 ... 28 28 28]]\n"
     ]
    }
   ],
   "source": [
    "print(background[:,:,0])\n",
    "print(np.unique(background))\n",
    "background[:,:,3] = 28\n",
    "print(background[:,:,3])"
   ]
  },
  {
   "cell_type": "code",
   "execution_count": 324,
   "metadata": {},
   "outputs": [
    {
     "data": {
      "image/png": "[encoded data removed]",
      "text/plain": [
       "<Figure size 432x288 with 1 Axes>"
      ]
     },
     "metadata": {
      "needs_background": "light"
     },
     "output_type": "display_data"
    }
   ],
   "source": [
    "plot_image(background)"
   ]
  },
  {
   "cell_type": "code",
   "execution_count": 326,
   "metadata": {},
   "outputs": [],
   "source": [
    "surface.write_to_png(\"circle.png\")\n",
    "surface2 = cairo.ImageSurface.create_for_data(\n",
    "    background, cairo.FORMAT_ARGB32, 200, 200)"
   ]
  },
  {
   "cell_type": "code",
   "execution_count": 327,
   "metadata": {},
   "outputs": [],
   "source": [
    "surface2.write_to_png(\"circle2.png\")"
   ]
  },
  {
   "cell_type": "markdown",
   "metadata": {},
   "source": [
    "## 2. Subproblem: Select which circle to draw (lefside/rightside or up/down) and increase opacity over the arc"
   ]
  },
  {
   "cell_type": "code",
   "execution_count": 99,
   "metadata": {},
   "outputs": [],
   "source": [
    "def point_closer_to(ref_point, point1, point2):\n",
    "    (ref_point_x, ref_point_y) = ref_point\n",
    "    \n",
    "    point1_x, point1_y = point1[0], point1[1]\n",
    "    point2_x, point2_y = point2[0], point2[1]\n",
    "    \n",
    "    delta_x1, delta_y1 = ref_point_x - point1_x, ref_point_y - point1_y\n",
    "    delta_x2, delta_y2 = ref_point_x - point2_x, ref_point_y - point2_y\n",
    "    \n",
    "    distance1 = math.sqrt(delta_x1**2 + delta_y1**2)\n",
    "    distance2 = math.sqrt(delta_x2**2 + delta_y2**2)\n",
    "    \n",
    "    if distance1 < distance2:\n",
    "        return point1\n",
    "    else:\n",
    "        return point2\n",
    "\n",
    "# to-do: must select which cirlce more cleverly\n",
    "def get_circle(point1, point2, radius, image_shape):\n",
    "    if radius == 0.0:\n",
    "        raise ValueError('radius of zero')\n",
    "    \n",
    "    (point1_x, point1_y), (point2_x, point2_y) = point1, point2\n",
    "    \n",
    "    if point1 == point2:\n",
    "        raise ValueError('coincident points gives infinite number of Circles')\n",
    "    \n",
    "    # delta x, delta y between points\n",
    "    delta_x, delta_y = point2_x - point1_x, point2_y - point1_y\n",
    "    # dist between points\n",
    "    distance_points = math.sqrt(delta_x**2 + delta_y**2)\n",
    "    \n",
    "    if distance_points > 2.0 * radius:\n",
    "        raise ValueError('separation of points > diameter')\n",
    "    \n",
    "    # halfway point\n",
    "    point3_x, point3_y = (point1_x + point2_x) / 2, (point1_y + point2_y) / 2\n",
    "    \n",
    "    # distance along the mirror line\n",
    "    distance_mirror = math.sqrt(radius**2 - (distance_points / 2)**2)\n",
    "    \n",
    "    # One answer\n",
    "    left_circle = (point3_x - distance_mirror * delta_y / distance_points,\n",
    "                   point3_y + distance_mirror * delta_x / distance_points,\n",
    "                   abs(radius))\n",
    "    # The other answer\n",
    "    right_circle = (point3_x + distance_mirror * delta_y / distance_points,\n",
    "                    point3_y - distance_mirror * delta_x / distance_points,\n",
    "                    abs(radius))\n",
    "\n",
    "    image_center = image_shape[0] / 2, image_shape[1] / 2\n",
    "    \n",
    "    circle = point_closer_to(image_center, left_circle, right_circle)\n",
    "    \n",
    "    return circle"
   ]
  },
  {
   "cell_type": "code",
   "execution_count": 100,
   "metadata": {},
   "outputs": [],
   "source": [
    "point1 = (80, 30)\n",
    "point2 = (130, 50)\n",
    "\n",
    "background = np.zeros((200, 200, 4), dtype=np.uint8)\n",
    "main_surface = cairo.ImageSurface.create_for_data(\n",
    "    background, cairo.FORMAT_ARGB32, 200, 200)\n",
    "\n",
    "cr = cairo.Context(main_surface)\n",
    "\n",
    "# draw background\n",
    "cr.set_source_rgba(1.0, 1.0, 1.0, 1)\n",
    "cr.paint()\n",
    "\n",
    "# draw the two points\n",
    "cr.set_source_rgba(1, 0.2, 0.2, 0.6)\n",
    "cr.arc(point1[0], point1[1], 4.0, 0, 2*np.pi)\n",
    "cr.arc(point2[0], point2[1], 4.0, 0, 2*np.pi)\n",
    "cr.fill()\n",
    "\n",
    "# save the image\n",
    "main_surface.write_to_png(\"points.png\")"
   ]
  },
  {
   "cell_type": "code",
   "execution_count": 101,
   "metadata": {},
   "outputs": [],
   "source": [
    "circle = get_circle(point1, point2, 60, background.shape)\n",
    "\n",
    "# draw the circle\n",
    "cr.set_source_rgba(1, 0.2, 0.2, 0.1)\n",
    "cr.arc(circle[0], circle[1], circle[2], 0, 2*math.pi)\n",
    "cr.set_line_width(3)\n",
    "cr.stroke()\n",
    "\n",
    "main_surface.write_to_png(\"circle_and_points.png\")"
   ]
  },
  {
   "cell_type": "code",
   "execution_count": 102,
   "metadata": {},
   "outputs": [],
   "source": [
    "def quadrant(point, circle):\n",
    "#     import pdb; pdb.set_trace()\n",
    "    if point[0] > circle[0] and point[1] < circle[1]:\n",
    "        return 1\n",
    "    elif point[0] < circle[0] and point[1] < circle[1]:\n",
    "        return 2\n",
    "    elif point[0] < circle[0] and point[1] > circle[1]:\n",
    "        return 3\n",
    "    \n",
    "    return 4    \n",
    "\n",
    "# to-do: which arc must be decided cleverly\n",
    "#        for now, it will depend on which side\n",
    "#        the points are to the center of the image\n",
    "#        (up/down and right/left)\n",
    "def get_increase_opacity_angles(point1, point2, circle):\n",
    "    zero_degrees_point = (circle[0] + circle[2], circle[1])\n",
    "    \n",
    "    # delta x, delta y between points\n",
    "    delta1_x, delta1_y = zero_degrees_point[0] - point1[0], zero_degrees_point[1] - point1[1]\n",
    "    delta2_x, delta2_y = zero_degrees_point[0] - point2[0], zero_degrees_point[1] - point2[1]\n",
    "    # dist between points\n",
    "    distance_points1 = math.sqrt(delta1_x**2 + delta1_y**2)\n",
    "    distance_points2 = math.sqrt(delta2_x**2 + delta2_y**2)\n",
    "    \n",
    "    angle1 = np.arccos(1 - distance_points1**2/(2 * circle[2]**2))\n",
    "    angle2 = np.arccos(1 - distance_points2**2/(2 * circle[2]**2))\n",
    "    \n",
    "    if quadrant(point1, circle) == 1:\n",
    "        angle1 = np.pi/2 - angle1 + 3/2*np.pi\n",
    "    elif quadrant(point1, circle) == 2:\n",
    "        angle1 = 2*np.pi - angle1\n",
    "    \n",
    "    if quadrant(point2, circle) == 1:\n",
    "        angle2 = np.pi/2 - angle2 + 3/2*np.pi\n",
    "    elif quadrant(point2, circle) == 2:\n",
    "        angle2 = 2*np.pi - angle2\n",
    "    \n",
    "    \n",
    "    return min(angle1, angle2), max(angle1, angle2)"
   ]
  },
  {
   "cell_type": "code",
   "execution_count": 103,
   "metadata": {},
   "outputs": [],
   "source": [
    "angle_start, angle_stop = get_increase_opacity_angles(point1, point2, circle)\n",
    "\n",
    "# draw the circle\n",
    "cr.set_source_rgba(1, 0.2, 0.2, 1)\n",
    "cr.arc(circle[0], circle[1], circle[2], angle_start, angle_stop)\n",
    "cr.set_line_width(3)\n",
    "cr.stroke()"
   ]
  },
  {
   "cell_type": "code",
   "execution_count": 104,
   "metadata": {},
   "outputs": [],
   "source": [
    "main_surface.write_to_png(\"circle_and_points_increased_opacity.png\")"
   ]
  },
  {
   "cell_type": "code",
   "execution_count": 3,
   "metadata": {},
   "outputs": [],
   "source": [
    "def distance_between(point1, point2):\n",
    "    point1_x, point1_y = point1\n",
    "    point2_x, point2_y = point2\n",
    "    \n",
    "    # delta x, delta y between points\n",
    "    delta_x, delta_y = point2_x - point1_x, point2_y - point1_y\n",
    "    # dist between points\n",
    "    distance_points = math.sqrt(delta_x**2 + delta_y**2)\n",
    "    \n",
    "    return distance_points"
   ]
  },
  {
   "cell_type": "code",
   "execution_count": 115,
   "metadata": {},
   "outputs": [],
   "source": [
    "background = np.zeros((200, 200, 4), dtype=np.uint8)\n",
    "main_surface = cairo.ImageSurface.create_for_data(\n",
    "    background, cairo.FORMAT_ARGB32, 200, 200)\n",
    "\n",
    "cr = cairo.Context(main_surface)\n",
    "\n",
    "# draw background\n",
    "cr.set_source_rgba(1.0, 1.0, 1.0, 1)\n",
    "cr.paint()\n",
    "\n",
    "# draw the two points\n",
    "point1 = (160, 130)\n",
    "point2 = (30, 150)\n",
    "\n",
    "distance1 = distance_between(point1, point2)\n",
    "\n",
    "cr.set_source_rgba(1, 0.2, 0.2, 0.6)\n",
    "cr.arc(point1[0], point1[1], 4.0, 0, 2*np.pi)\n",
    "cr.arc(point2[0], point2[1], 4.0, 0, 2*np.pi)\n",
    "cr.fill()\n",
    "\n",
    "# draw the circle\n",
    "circle = get_circle(point1, point2, distance1 + 20, background.shape)\n",
    "cr.set_source_rgba(1, 0.2, 0.2, 0.1)\n",
    "cr.arc(circle[0], circle[1], circle[2], 0, 2*math.pi)\n",
    "cr.set_line_width(3)\n",
    "cr.stroke()\n",
    "\n",
    "# increase opacity\n",
    "angle_start, angle_stop = get_increase_opacity_angles(point1, point2, circle)\n",
    "\n",
    "# draw the circle\n",
    "cr.set_source_rgba(1, 0.2, 0.2, 1)\n",
    "cr.arc(circle[0], circle[1], circle[2], angle_start, angle_stop)\n",
    "cr.set_line_width(3)\n",
    "cr.stroke()"
   ]
  },
  {
   "cell_type": "code",
   "execution_count": 116,
   "metadata": {},
   "outputs": [],
   "source": [
    "# draw the two points\n",
    "point3 = (80, 30)\n",
    "point4 = (130, 50)\n",
    "\n",
    "distance2 = distance_between(point3, point4)\n",
    "\n",
    "cr.set_source_rgba(1, 0.2, 0.2, 0.6)\n",
    "cr.arc(point3[0], point3[1], 4.0, 0, 2*np.pi)\n",
    "cr.arc(point4[0], point4[1], 4.0, 0, 2*np.pi)\n",
    "cr.fill()\n",
    "\n",
    "# draw the circle\n",
    "circle = get_circle(point3, point4, distance2 + 20, background.shape)\n",
    "cr.set_source_rgba(1, 0.2, 0.2, 0.1)\n",
    "cr.arc(circle[0], circle[1], circle[2], 0, 2*math.pi)\n",
    "cr.set_line_width(3)\n",
    "cr.stroke()\n",
    "\n",
    "# increase opacity\n",
    "angle_start, angle_stop = get_increase_opacity_angles(point3, point4, circle)\n",
    "\n",
    "# draw the circle\n",
    "cr.set_source_rgba(1, 0.2, 0.2, 1)\n",
    "cr.arc(circle[0], circle[1], circle[2], angle_start, angle_stop)\n",
    "cr.set_line_width(3)\n",
    "cr.stroke()\n",
    "\n",
    "# save the image\n",
    "main_surface.write_to_png(\"big_cool.png\")"
   ]
  },
  {
   "cell_type": "markdown",
   "metadata": {},
   "source": [
    "## 3. Subproblem: Select the representative symmetrical(optional) points for an input image"
   ]
  },
  {
   "cell_type": "markdown",
   "metadata": {},
   "source": [
    "### 3.1 Recreate simple images with hardcoded coordinates"
   ]
  },
  {
   "cell_type": "markdown",
   "metadata": {},
   "source": [
    "#### Example: Square\n",
    "\n",
    "The length of the arc replacing a line should be about some constant times the length of the line.\n",
    "\n",
    "Let that constant be 1.2.\n",
    "\n",
    "Problems: \n",
    "\n",
    "How do we draw convex figures.\n",
    "\n",
    "How do we know which points to connect and how many connections are there.\n",
    "\n",
    "Rule: connect a point to the closest point. If that point is already connected to the current point, connect it to the closest point which has the least connections."
   ]
  },
  {
   "cell_type": "code",
   "execution_count": 10,
   "metadata": {},
   "outputs": [],
   "source": [
    "def closest_point(point, points):\n",
    "    best_dist = 4000\n",
    "    chosen_point = point\n",
    "    \n",
    "    for current_point in points:\n",
    "        if distance_between(point, current_point) < best_dist:\n",
    "#             import pdb; pdb.set_trace()\n",
    "            chosen_point = current_point\n",
    "            best_dist = distance_between(point, current_point)\n",
    "    \n",
    "    return chosen_point\n",
    "\n",
    "def chose_point(point, points, points_connections, connections):\n",
    "    points.remove(point)\n",
    "    not_chosen = True\n",
    "    \n",
    "    while not_chosen:\n",
    "        chosen_point = closest_point(point, points)\n",
    "#         import pdb; pdb.set_trace()\n",
    "        if [point, chosen_point] not in connections:\n",
    "            return chosen_point\n",
    "        \n",
    "        points.remove(chosen_point)\n",
    "        \n",
    "        if len(points) == 0:\n",
    "            return point\n",
    "        "
   ]
  },
  {
   "cell_type": "code",
   "execution_count": 11,
   "metadata": {},
   "outputs": [
    {
     "name": "stdout",
     "output_type": "stream",
     "text": [
      "> <ipython-input-10-46432384a402>(8)closest_point()\n",
      "-> chosen_point = current_point\n",
      "(Pdb) current_point\n",
      "(210, 10)\n",
      "(Pdb) chosen_point\n",
      "(10, 10)\n",
      "(Pdb) c\n",
      "> <ipython-input-10-46432384a402>(8)closest_point()\n",
      "-> chosen_point = current_point\n",
      "(Pdb) chosen_point\n",
      "(210, 210)\n",
      "(Pdb) c\n"
     ]
    }
   ],
   "source": [
    "points = [(10,10), (210,10), (210,210), (10,210)]\n",
    "\n",
    "c_al = 1.2\n",
    "\n",
    "connections = []\n",
    "points_connections = [0, 0, 0, 0]\n",
    "\n",
    "for point in points:\n",
    "    chosen_point = chose_point(point, points, points_connections, connections)\n",
    "    connections.append([point, chosen_point])\n"
   ]
  },
  {
   "cell_type": "code",
   "execution_count": 12,
   "metadata": {},
   "outputs": [
    {
     "data": {
      "text/plain": [
       "[[(10, 10), (210, 10)], [(210, 210), (210, 10)]]"
      ]
     },
     "execution_count": 12,
     "metadata": {},
     "output_type": "execute_result"
    }
   ],
   "source": [
    "connections"
   ]
  },
  {
   "cell_type": "code",
   "execution_count": null,
   "metadata": {},
   "outputs": [],
   "source": []
  },
  {
   "cell_type": "code",
   "execution_count": null,
   "metadata": {},
   "outputs": [],
   "source": []
  }
 ],
 "metadata": {
  "kernelspec": {
   "display_name": "Python 3",
   "language": "python",
   "name": "python3"
  },
  "language_info": {
   "codemirror_mode": {
    "name": "ipython",
    "version": 3
   },
   "file_extension": ".py",
   "mimetype": "text/x-python",
   "name": "python",
   "nbconvert_exporter": "python",
   "pygments_lexer": "ipython3",
   "version": "3.7.4"
  }
 },
 "nbformat": 4,
 "nbformat_minor": 2
}
